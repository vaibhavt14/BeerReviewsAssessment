{
 "cells": [
  {
   "cell_type": "markdown",
   "metadata": {},
   "source": [
    "# Beer reviews data Analysis\n",
    "\n",
    "Data Source: https://drive.google.com/open?id=1e-kyoB97a5tnE7X4T4Es4FHi4g6Trefq <br>\n",
    "\t\t\t\t\t\t\t\t\t\t\n",
    "\n",
    "## Features\n",
    "\n",
    "This is where you'll get different information about each of the features in your data.\n",
    "\n",
    "Attribute Information:\n",
    "\n",
    "1. beer_ABV - alcohol by volume(ABV) to assess the strength of a particular beer\n",
    "2. beer_beerId - unique identifier for the beer\n",
    "3. beer_brewerId - unqiue identifier for the brewer\n",
    "4. beer_name - name of the beer\n",
    "5. beer_style - categories of beers\n",
    "6. review_appearance - appereance of the review rating between 1 to 5\n",
    "7. review_palette - palette of the review rating rating between 1 and 5\n",
    "8. review_overall - overall review rating between 1 to 5\n",
    "9. review_taste - taste of the review rating between 1 to 5\n",
    "10. review_profileName - profile name for the review rating between 1 to 5\n",
    "11. review_aroma - scent of beer for the review rating between 1 to 5\n",
    "8. review_time - timestamp for the review\n",
    "10. review_text - text of the review\n",
    "\n",
    "## Objective\n",
    "\n",
    "In a statement,\n",
    "> To Explore the dataset of beer reviews and look for hidden answer from the data and analyze trend/pattern in data and find the solution of given problem.\n",
    "\n",
    "### Questions\n",
    "    \n",
    "1.\tRank top 3 Breweries which produce the strongest beers?\n",
    "2.\tWhich year did beers enjoy the highest ratings? \n",
    "3.\t Based on the user’s ratings which factors are important among taste, aroma, appearance, and palette?\n",
    "4.\tIf you were to recommend 3 beers to your friends based on this data which ones will you recommend?\n",
    "5.\tWhich Beer style seems to be the favorite based on reviews written by users? \n",
    "6.\tHow does written review compare to overall review score for the beer styles?\n"
   ]
  },
  {
   "cell_type": "code",
   "execution_count": 4,
   "metadata": {},
   "outputs": [],
   "source": [
    "# Regular EDA (exploratory data analysis) and plotting libraries\n",
    "import warnings\n",
    "warnings.filterwarnings(\"ignore\")\n",
    "import pandas as pd\n",
    "import numpy as np\n",
    "import re\n",
    "import time\n",
    "import nltk\n",
    "#for plotting\n",
    "import seaborn as sns\n",
    "import matplotlib.pyplot as plt\n",
    "# we want our plots to appear inside the notebook\n",
    "%matplotlib inline"
   ]
  },
  {
   "cell_type": "markdown",
   "metadata": {},
   "source": [
    "## Load Data"
   ]
  },
  {
   "cell_type": "code",
   "execution_count": 7,
   "metadata": {},
   "outputs": [
    {
     "name": "stdout",
     "output_type": "stream",
     "text": [
      "Time took to load the data : 10.208115000000006 seconds\n"
     ]
    }
   ],
   "source": [
    "start_time = time.clock()\n",
    "read_data = 'BeerDataScienceProject\\BeerDataScienceProject.csv'\n",
    "df_beer = pd.read_csv(read_data,encoding='ISO-8859-1')\n",
    "print('Time took to load the data :',time.clock() - start_time, \"seconds\")"
   ]
  },
  {
   "cell_type": "code",
   "execution_count": 8,
   "metadata": {},
   "outputs": [
    {
     "name": "stdout",
     "output_type": "stream",
     "text": [
      "(528870, 13)\n",
      "Number of reviews:  528870\n",
      "Number of features:  13\n"
     ]
    }
   ],
   "source": [
    "print(df_beer.shape) #row,column\n",
    "print(\"Number of reviews: \", df_beer.shape[0])\n",
    "print(\"Number of features: \", df_beer.shape[1])"
   ]
  },
  {
   "cell_type": "markdown",
   "metadata": {},
   "source": [
    "## Data Exploration (exploratory data analysis or EDA)\n",
    "\n",
    "The goal here is to find out more about the data. \n",
    "\n",
    "1. What question(s) are you trying to solve?\n",
    "2. What kind of data do we have and how do we treat different types?\n",
    "3. What's missing from the data and how do you deal with it?\n",
    "4. Where are the outliers and why should you care about them?\n",
    "5. How can you add, change or remove features to get more out of your data?"
   ]
  },
  {
   "cell_type": "code",
   "execution_count": 3,
   "metadata": {},
   "outputs": [
    {
     "data": {
      "text/html": [
       "<div>\n",
       "<style scoped>\n",
       "    .dataframe tbody tr th:only-of-type {\n",
       "        vertical-align: middle;\n",
       "    }\n",
       "\n",
       "    .dataframe tbody tr th {\n",
       "        vertical-align: top;\n",
       "    }\n",
       "\n",
       "    .dataframe thead th {\n",
       "        text-align: right;\n",
       "    }\n",
       "</style>\n",
       "<table border=\"1\" class=\"dataframe\">\n",
       "  <thead>\n",
       "    <tr style=\"text-align: right;\">\n",
       "      <th></th>\n",
       "      <th>beer_ABV</th>\n",
       "      <th>beer_beerId</th>\n",
       "      <th>beer_brewerId</th>\n",
       "      <th>beer_name</th>\n",
       "      <th>beer_style</th>\n",
       "      <th>review_appearance</th>\n",
       "      <th>review_palette</th>\n",
       "      <th>review_overall</th>\n",
       "      <th>review_taste</th>\n",
       "      <th>review_profileName</th>\n",
       "      <th>review_aroma</th>\n",
       "      <th>review_text</th>\n",
       "      <th>review_time</th>\n",
       "    </tr>\n",
       "  </thead>\n",
       "  <tbody>\n",
       "    <tr>\n",
       "      <th>0</th>\n",
       "      <td>5.0</td>\n",
       "      <td>47986</td>\n",
       "      <td>10325</td>\n",
       "      <td>Sausa Weizen</td>\n",
       "      <td>Hefeweizen</td>\n",
       "      <td>2.5</td>\n",
       "      <td>2.0</td>\n",
       "      <td>1.5</td>\n",
       "      <td>1.5</td>\n",
       "      <td>stcules</td>\n",
       "      <td>1.5</td>\n",
       "      <td>A lot of foam. But a lot. In the smell some ba...</td>\n",
       "      <td>1234817823</td>\n",
       "    </tr>\n",
       "    <tr>\n",
       "      <th>1</th>\n",
       "      <td>6.2</td>\n",
       "      <td>48213</td>\n",
       "      <td>10325</td>\n",
       "      <td>Red Moon</td>\n",
       "      <td>English Strong Ale</td>\n",
       "      <td>3.0</td>\n",
       "      <td>2.5</td>\n",
       "      <td>3.0</td>\n",
       "      <td>3.0</td>\n",
       "      <td>stcules</td>\n",
       "      <td>3.0</td>\n",
       "      <td>Dark red color, light beige foam, average. In ...</td>\n",
       "      <td>1235915097</td>\n",
       "    </tr>\n",
       "    <tr>\n",
       "      <th>2</th>\n",
       "      <td>6.5</td>\n",
       "      <td>48215</td>\n",
       "      <td>10325</td>\n",
       "      <td>Black Horse Black Beer</td>\n",
       "      <td>Foreign / Export Stout</td>\n",
       "      <td>3.0</td>\n",
       "      <td>2.5</td>\n",
       "      <td>3.0</td>\n",
       "      <td>3.0</td>\n",
       "      <td>stcules</td>\n",
       "      <td>3.0</td>\n",
       "      <td>Almost totally black. Beige foam, quite compac...</td>\n",
       "      <td>1235916604</td>\n",
       "    </tr>\n",
       "    <tr>\n",
       "      <th>3</th>\n",
       "      <td>5.0</td>\n",
       "      <td>47969</td>\n",
       "      <td>10325</td>\n",
       "      <td>Sausa Pils</td>\n",
       "      <td>German Pilsener</td>\n",
       "      <td>3.5</td>\n",
       "      <td>3.0</td>\n",
       "      <td>3.0</td>\n",
       "      <td>2.5</td>\n",
       "      <td>stcules</td>\n",
       "      <td>3.0</td>\n",
       "      <td>Golden yellow color. White, compact foam, quit...</td>\n",
       "      <td>1234725145</td>\n",
       "    </tr>\n",
       "    <tr>\n",
       "      <th>4</th>\n",
       "      <td>7.7</td>\n",
       "      <td>64883</td>\n",
       "      <td>1075</td>\n",
       "      <td>Cauldron DIPA</td>\n",
       "      <td>American Double / Imperial IPA</td>\n",
       "      <td>4.0</td>\n",
       "      <td>4.5</td>\n",
       "      <td>4.0</td>\n",
       "      <td>4.0</td>\n",
       "      <td>johnmichaelsen</td>\n",
       "      <td>4.5</td>\n",
       "      <td>According to the website, the style for the Ca...</td>\n",
       "      <td>1293735206</td>\n",
       "    </tr>\n",
       "  </tbody>\n",
       "</table>\n",
       "</div>"
      ],
      "text/plain": [
       "   beer_ABV  beer_beerId  beer_brewerId               beer_name  \\\n",
       "0       5.0        47986          10325            Sausa Weizen   \n",
       "1       6.2        48213          10325                Red Moon   \n",
       "2       6.5        48215          10325  Black Horse Black Beer   \n",
       "3       5.0        47969          10325              Sausa Pils   \n",
       "4       7.7        64883           1075           Cauldron DIPA   \n",
       "\n",
       "                       beer_style  review_appearance  review_palette  \\\n",
       "0                      Hefeweizen                2.5             2.0   \n",
       "1              English Strong Ale                3.0             2.5   \n",
       "2          Foreign / Export Stout                3.0             2.5   \n",
       "3                 German Pilsener                3.5             3.0   \n",
       "4  American Double / Imperial IPA                4.0             4.5   \n",
       "\n",
       "   review_overall  review_taste review_profileName  review_aroma  \\\n",
       "0             1.5           1.5            stcules           1.5   \n",
       "1             3.0           3.0            stcules           3.0   \n",
       "2             3.0           3.0            stcules           3.0   \n",
       "3             3.0           2.5            stcules           3.0   \n",
       "4             4.0           4.0     johnmichaelsen           4.5   \n",
       "\n",
       "                                         review_text  review_time  \n",
       "0  A lot of foam. But a lot. In the smell some ba...   1234817823  \n",
       "1  Dark red color, light beige foam, average. In ...   1235915097  \n",
       "2  Almost totally black. Beige foam, quite compac...   1235916604  \n",
       "3  Golden yellow color. White, compact foam, quit...   1234725145  \n",
       "4  According to the website, the style for the Ca...   1293735206  "
      ]
     },
     "execution_count": 3,
     "metadata": {},
     "output_type": "execute_result"
    }
   ],
   "source": [
    "df_beer.head()"
   ]
  },
  {
   "cell_type": "code",
   "execution_count": 4,
   "metadata": {},
   "outputs": [
    {
     "name": "stdout",
     "output_type": "stream",
     "text": [
      "<class 'pandas.core.frame.DataFrame'>\n",
      "RangeIndex: 528870 entries, 0 to 528869\n",
      "Data columns (total 13 columns):\n",
      " #   Column              Non-Null Count   Dtype  \n",
      "---  ------              --------------   -----  \n",
      " 0   beer_ABV            508590 non-null  float64\n",
      " 1   beer_beerId         528870 non-null  int64  \n",
      " 2   beer_brewerId       528870 non-null  int64  \n",
      " 3   beer_name           528870 non-null  object \n",
      " 4   beer_style          528870 non-null  object \n",
      " 5   review_appearance   528870 non-null  float64\n",
      " 6   review_palette      528870 non-null  float64\n",
      " 7   review_overall      528870 non-null  float64\n",
      " 8   review_taste        528870 non-null  float64\n",
      " 9   review_profileName  528755 non-null  object \n",
      " 10  review_aroma        528870 non-null  float64\n",
      " 11  review_text         528751 non-null  object \n",
      " 12  review_time         528870 non-null  int64  \n",
      "dtypes: float64(6), int64(3), object(4)\n",
      "memory usage: 52.5+ MB\n"
     ]
    }
   ],
   "source": [
    "#checking the info of the dataframe shows us the data type to check which columns are int,float,object\n",
    "df_beer.info()"
   ]
  },
  {
   "cell_type": "markdown",
   "metadata": {},
   "source": [
    "* The beer dataset contains 528870 rows, and 13 columns \n",
    "* Contain some missing values such as beer_ABV\n",
    "* As in review_time column which showing integer datatype of time which is called *epoch time* the time in seconds since Jan 1st 1970 so we have to convert in datetime datatype"
   ]
  },
  {
   "cell_type": "code",
   "execution_count": 5,
   "metadata": {},
   "outputs": [
    {
     "data": {
      "text/html": [
       "<div>\n",
       "<style scoped>\n",
       "    .dataframe tbody tr th:only-of-type {\n",
       "        vertical-align: middle;\n",
       "    }\n",
       "\n",
       "    .dataframe tbody tr th {\n",
       "        vertical-align: top;\n",
       "    }\n",
       "\n",
       "    .dataframe thead th {\n",
       "        text-align: right;\n",
       "    }\n",
       "</style>\n",
       "<table border=\"1\" class=\"dataframe\">\n",
       "  <thead>\n",
       "    <tr style=\"text-align: right;\">\n",
       "      <th></th>\n",
       "      <th>beer_ABV</th>\n",
       "      <th>beer_beerId</th>\n",
       "      <th>beer_brewerId</th>\n",
       "      <th>review_appearance</th>\n",
       "      <th>review_palette</th>\n",
       "      <th>review_overall</th>\n",
       "      <th>review_taste</th>\n",
       "      <th>review_aroma</th>\n",
       "      <th>review_time</th>\n",
       "    </tr>\n",
       "  </thead>\n",
       "  <tbody>\n",
       "    <tr>\n",
       "      <th>count</th>\n",
       "      <td>508590.000000</td>\n",
       "      <td>528870.000000</td>\n",
       "      <td>528870.000000</td>\n",
       "      <td>528870.000000</td>\n",
       "      <td>528870.000000</td>\n",
       "      <td>528870.000000</td>\n",
       "      <td>528870.000000</td>\n",
       "      <td>528870.000000</td>\n",
       "      <td>5.288700e+05</td>\n",
       "    </tr>\n",
       "    <tr>\n",
       "      <th>mean</th>\n",
       "      <td>7.017442</td>\n",
       "      <td>22098.466016</td>\n",
       "      <td>2598.423429</td>\n",
       "      <td>3.864522</td>\n",
       "      <td>3.758926</td>\n",
       "      <td>3.833197</td>\n",
       "      <td>3.765993</td>\n",
       "      <td>3.817350</td>\n",
       "      <td>1.224885e+09</td>\n",
       "    </tr>\n",
       "    <tr>\n",
       "      <th>std</th>\n",
       "      <td>2.204460</td>\n",
       "      <td>22158.284352</td>\n",
       "      <td>5281.805350</td>\n",
       "      <td>0.604010</td>\n",
       "      <td>0.685335</td>\n",
       "      <td>0.709962</td>\n",
       "      <td>0.669018</td>\n",
       "      <td>0.718903</td>\n",
       "      <td>7.605600e+07</td>\n",
       "    </tr>\n",
       "    <tr>\n",
       "      <th>min</th>\n",
       "      <td>0.010000</td>\n",
       "      <td>3.000000</td>\n",
       "      <td>1.000000</td>\n",
       "      <td>0.000000</td>\n",
       "      <td>1.000000</td>\n",
       "      <td>0.000000</td>\n",
       "      <td>1.000000</td>\n",
       "      <td>1.000000</td>\n",
       "      <td>8.843904e+08</td>\n",
       "    </tr>\n",
       "    <tr>\n",
       "      <th>25%</th>\n",
       "      <td>5.300000</td>\n",
       "      <td>1745.000000</td>\n",
       "      <td>132.000000</td>\n",
       "      <td>3.500000</td>\n",
       "      <td>3.500000</td>\n",
       "      <td>3.500000</td>\n",
       "      <td>3.500000</td>\n",
       "      <td>3.500000</td>\n",
       "      <td>1.174613e+09</td>\n",
       "    </tr>\n",
       "    <tr>\n",
       "      <th>50%</th>\n",
       "      <td>6.500000</td>\n",
       "      <td>14368.000000</td>\n",
       "      <td>394.000000</td>\n",
       "      <td>4.000000</td>\n",
       "      <td>4.000000</td>\n",
       "      <td>4.000000</td>\n",
       "      <td>4.000000</td>\n",
       "      <td>4.000000</td>\n",
       "      <td>1.240366e+09</td>\n",
       "    </tr>\n",
       "    <tr>\n",
       "      <th>75%</th>\n",
       "      <td>8.500000</td>\n",
       "      <td>40528.000000</td>\n",
       "      <td>1475.000000</td>\n",
       "      <td>4.000000</td>\n",
       "      <td>4.000000</td>\n",
       "      <td>4.500000</td>\n",
       "      <td>4.000000</td>\n",
       "      <td>4.500000</td>\n",
       "      <td>1.288560e+09</td>\n",
       "    </tr>\n",
       "    <tr>\n",
       "      <th>max</th>\n",
       "      <td>57.700000</td>\n",
       "      <td>77310.000000</td>\n",
       "      <td>27980.000000</td>\n",
       "      <td>5.000000</td>\n",
       "      <td>5.000000</td>\n",
       "      <td>5.000000</td>\n",
       "      <td>5.000000</td>\n",
       "      <td>5.000000</td>\n",
       "      <td>1.326277e+09</td>\n",
       "    </tr>\n",
       "  </tbody>\n",
       "</table>\n",
       "</div>"
      ],
      "text/plain": [
       "            beer_ABV    beer_beerId  beer_brewerId  review_appearance  \\\n",
       "count  508590.000000  528870.000000  528870.000000      528870.000000   \n",
       "mean        7.017442   22098.466016    2598.423429           3.864522   \n",
       "std         2.204460   22158.284352    5281.805350           0.604010   \n",
       "min         0.010000       3.000000       1.000000           0.000000   \n",
       "25%         5.300000    1745.000000     132.000000           3.500000   \n",
       "50%         6.500000   14368.000000     394.000000           4.000000   \n",
       "75%         8.500000   40528.000000    1475.000000           4.000000   \n",
       "max        57.700000   77310.000000   27980.000000           5.000000   \n",
       "\n",
       "       review_palette  review_overall   review_taste   review_aroma  \\\n",
       "count   528870.000000   528870.000000  528870.000000  528870.000000   \n",
       "mean         3.758926        3.833197       3.765993       3.817350   \n",
       "std          0.685335        0.709962       0.669018       0.718903   \n",
       "min          1.000000        0.000000       1.000000       1.000000   \n",
       "25%          3.500000        3.500000       3.500000       3.500000   \n",
       "50%          4.000000        4.000000       4.000000       4.000000   \n",
       "75%          4.000000        4.500000       4.000000       4.500000   \n",
       "max          5.000000        5.000000       5.000000       5.000000   \n",
       "\n",
       "        review_time  \n",
       "count  5.288700e+05  \n",
       "mean   1.224885e+09  \n",
       "std    7.605600e+07  \n",
       "min    8.843904e+08  \n",
       "25%    1.174613e+09  \n",
       "50%    1.240366e+09  \n",
       "75%    1.288560e+09  \n",
       "max    1.326277e+09  "
      ]
     },
     "execution_count": 5,
     "metadata": {},
     "output_type": "execute_result"
    }
   ],
   "source": [
    "df_beer.describe()"
   ]
  },
  {
   "cell_type": "code",
   "execution_count": 6,
   "metadata": {},
   "outputs": [
    {
     "data": {
      "text/html": [
       "<div>\n",
       "<style scoped>\n",
       "    .dataframe tbody tr th:only-of-type {\n",
       "        vertical-align: middle;\n",
       "    }\n",
       "\n",
       "    .dataframe tbody tr th {\n",
       "        vertical-align: top;\n",
       "    }\n",
       "\n",
       "    .dataframe thead th {\n",
       "        text-align: right;\n",
       "    }\n",
       "</style>\n",
       "<table border=\"1\" class=\"dataframe\">\n",
       "  <thead>\n",
       "    <tr style=\"text-align: right;\">\n",
       "      <th></th>\n",
       "      <th>Count</th>\n",
       "    </tr>\n",
       "    <tr>\n",
       "      <th>Column Type</th>\n",
       "      <th></th>\n",
       "    </tr>\n",
       "  </thead>\n",
       "  <tbody>\n",
       "    <tr>\n",
       "      <th>int64</th>\n",
       "      <td>3</td>\n",
       "    </tr>\n",
       "    <tr>\n",
       "      <th>float64</th>\n",
       "      <td>6</td>\n",
       "    </tr>\n",
       "    <tr>\n",
       "      <th>object</th>\n",
       "      <td>4</td>\n",
       "    </tr>\n",
       "  </tbody>\n",
       "</table>\n",
       "</div>"
      ],
      "text/plain": [
       "             Count\n",
       "Column Type       \n",
       "int64            3\n",
       "float64          6\n",
       "object           4"
      ]
     },
     "execution_count": 6,
     "metadata": {},
     "output_type": "execute_result"
    }
   ],
   "source": [
    "# Count the datatype \n",
    "dtype_df = df_beer.dtypes.reset_index()\n",
    "dtype_df.columns = ['Count','Column Type']\n",
    "dtype_df.groupby('Column Type').aggregate('count')"
   ]
  },
  {
   "cell_type": "markdown",
   "metadata": {},
   "source": [
    "### Missing values\n",
    "\n",
    "Let's go ahead and find out which variables of the dataset contain missing values"
   ]
  },
  {
   "cell_type": "code",
   "execution_count": 7,
   "metadata": {},
   "outputs": [
    {
     "data": {
      "text/html": [
       "<div>\n",
       "<style scoped>\n",
       "    .dataframe tbody tr th:only-of-type {\n",
       "        vertical-align: middle;\n",
       "    }\n",
       "\n",
       "    .dataframe tbody tr th {\n",
       "        vertical-align: top;\n",
       "    }\n",
       "\n",
       "    .dataframe thead th {\n",
       "        text-align: right;\n",
       "    }\n",
       "</style>\n",
       "<table border=\"1\" class=\"dataframe\">\n",
       "  <thead>\n",
       "    <tr style=\"text-align: right;\">\n",
       "      <th></th>\n",
       "      <th>Total</th>\n",
       "      <th>Percent %</th>\n",
       "    </tr>\n",
       "  </thead>\n",
       "  <tbody>\n",
       "    <tr>\n",
       "      <th>beer_ABV</th>\n",
       "      <td>20280</td>\n",
       "      <td>3.834591</td>\n",
       "    </tr>\n",
       "    <tr>\n",
       "      <th>review_text</th>\n",
       "      <td>119</td>\n",
       "      <td>0.022501</td>\n",
       "    </tr>\n",
       "    <tr>\n",
       "      <th>review_profileName</th>\n",
       "      <td>115</td>\n",
       "      <td>0.021744</td>\n",
       "    </tr>\n",
       "    <tr>\n",
       "      <th>review_time</th>\n",
       "      <td>0</td>\n",
       "      <td>0.000000</td>\n",
       "    </tr>\n",
       "    <tr>\n",
       "      <th>review_aroma</th>\n",
       "      <td>0</td>\n",
       "      <td>0.000000</td>\n",
       "    </tr>\n",
       "    <tr>\n",
       "      <th>review_taste</th>\n",
       "      <td>0</td>\n",
       "      <td>0.000000</td>\n",
       "    </tr>\n",
       "    <tr>\n",
       "      <th>review_overall</th>\n",
       "      <td>0</td>\n",
       "      <td>0.000000</td>\n",
       "    </tr>\n",
       "    <tr>\n",
       "      <th>review_palette</th>\n",
       "      <td>0</td>\n",
       "      <td>0.000000</td>\n",
       "    </tr>\n",
       "    <tr>\n",
       "      <th>review_appearance</th>\n",
       "      <td>0</td>\n",
       "      <td>0.000000</td>\n",
       "    </tr>\n",
       "    <tr>\n",
       "      <th>beer_style</th>\n",
       "      <td>0</td>\n",
       "      <td>0.000000</td>\n",
       "    </tr>\n",
       "    <tr>\n",
       "      <th>beer_name</th>\n",
       "      <td>0</td>\n",
       "      <td>0.000000</td>\n",
       "    </tr>\n",
       "    <tr>\n",
       "      <th>beer_brewerId</th>\n",
       "      <td>0</td>\n",
       "      <td>0.000000</td>\n",
       "    </tr>\n",
       "    <tr>\n",
       "      <th>beer_beerId</th>\n",
       "      <td>0</td>\n",
       "      <td>0.000000</td>\n",
       "    </tr>\n",
       "  </tbody>\n",
       "</table>\n",
       "</div>"
      ],
      "text/plain": [
       "                    Total  Percent %\n",
       "beer_ABV            20280   3.834591\n",
       "review_text           119   0.022501\n",
       "review_profileName    115   0.021744\n",
       "review_time             0   0.000000\n",
       "review_aroma            0   0.000000\n",
       "review_taste            0   0.000000\n",
       "review_overall          0   0.000000\n",
       "review_palette          0   0.000000\n",
       "review_appearance       0   0.000000\n",
       "beer_style              0   0.000000\n",
       "beer_name               0   0.000000\n",
       "beer_brewerId           0   0.000000\n",
       "beer_beerId             0   0.000000"
      ]
     },
     "execution_count": 7,
     "metadata": {},
     "output_type": "execute_result"
    }
   ],
   "source": [
    "total = df_beer.isnull().sum().sort_values(ascending=False)\n",
    "percent = (df_beer.isnull().sum()/df_beer.isnull().count()).sort_values(ascending=False)*100\n",
    "missing_data = pd.concat([total,percent],axis=1,keys=['Total','Percent %'])\n",
    "missing_data"
   ]
  },
  {
   "cell_type": "code",
   "execution_count": 8,
   "metadata": {},
   "outputs": [
    {
     "data": {
      "text/plain": [
       "4.0    196544\n",
       "4.5    110928\n",
       "3.5     98901\n",
       "3.0     53707\n",
       "5.0     31028\n",
       "2.5     18539\n",
       "2.0     11931\n",
       "1.5      3996\n",
       "1.0      3293\n",
       "0.0         3\n",
       "Name: review_overall, dtype: int64"
      ]
     },
     "execution_count": 8,
     "metadata": {},
     "output_type": "execute_result"
    }
   ],
   "source": [
    "df_beer['review_overall'].value_counts()"
   ]
  },
  {
   "cell_type": "markdown",
   "metadata": {},
   "source": [
    "**As we can see there are three features which have missing values where beer_ABV contains 3.8 percent of data missing and rest two feature have very low missing percentage so we can drop null values as it won't impact to the dataset so much**"
   ]
  },
  {
   "cell_type": "code",
   "execution_count": 9,
   "metadata": {},
   "outputs": [],
   "source": [
    "#Copy the dataframe\n",
    "new_beer_data = df_beer.copy()"
   ]
  },
  {
   "cell_type": "code",
   "execution_count": 10,
   "metadata": {},
   "outputs": [
    {
     "data": {
      "text/html": [
       "<div>\n",
       "<style scoped>\n",
       "    .dataframe tbody tr th:only-of-type {\n",
       "        vertical-align: middle;\n",
       "    }\n",
       "\n",
       "    .dataframe tbody tr th {\n",
       "        vertical-align: top;\n",
       "    }\n",
       "\n",
       "    .dataframe thead th {\n",
       "        text-align: right;\n",
       "    }\n",
       "</style>\n",
       "<table border=\"1\" class=\"dataframe\">\n",
       "  <thead>\n",
       "    <tr style=\"text-align: right;\">\n",
       "      <th></th>\n",
       "      <th>beer_ABV</th>\n",
       "      <th>beer_beerId</th>\n",
       "      <th>beer_brewerId</th>\n",
       "      <th>beer_name</th>\n",
       "      <th>beer_style</th>\n",
       "      <th>review_appearance</th>\n",
       "      <th>review_palette</th>\n",
       "      <th>review_overall</th>\n",
       "      <th>review_taste</th>\n",
       "      <th>review_profileName</th>\n",
       "      <th>review_aroma</th>\n",
       "      <th>review_text</th>\n",
       "      <th>review_time</th>\n",
       "    </tr>\n",
       "  </thead>\n",
       "  <tbody>\n",
       "    <tr>\n",
       "      <th>0</th>\n",
       "      <td>5.0</td>\n",
       "      <td>47986</td>\n",
       "      <td>10325</td>\n",
       "      <td>Sausa Weizen</td>\n",
       "      <td>Hefeweizen</td>\n",
       "      <td>2.5</td>\n",
       "      <td>2.0</td>\n",
       "      <td>1.5</td>\n",
       "      <td>1.5</td>\n",
       "      <td>stcules</td>\n",
       "      <td>1.5</td>\n",
       "      <td>A lot of foam. But a lot. In the smell some ba...</td>\n",
       "      <td>1234817823</td>\n",
       "    </tr>\n",
       "    <tr>\n",
       "      <th>1</th>\n",
       "      <td>6.2</td>\n",
       "      <td>48213</td>\n",
       "      <td>10325</td>\n",
       "      <td>Red Moon</td>\n",
       "      <td>English Strong Ale</td>\n",
       "      <td>3.0</td>\n",
       "      <td>2.5</td>\n",
       "      <td>3.0</td>\n",
       "      <td>3.0</td>\n",
       "      <td>stcules</td>\n",
       "      <td>3.0</td>\n",
       "      <td>Dark red color, light beige foam, average. In ...</td>\n",
       "      <td>1235915097</td>\n",
       "    </tr>\n",
       "    <tr>\n",
       "      <th>2</th>\n",
       "      <td>6.5</td>\n",
       "      <td>48215</td>\n",
       "      <td>10325</td>\n",
       "      <td>Black Horse Black Beer</td>\n",
       "      <td>Foreign / Export Stout</td>\n",
       "      <td>3.0</td>\n",
       "      <td>2.5</td>\n",
       "      <td>3.0</td>\n",
       "      <td>3.0</td>\n",
       "      <td>stcules</td>\n",
       "      <td>3.0</td>\n",
       "      <td>Almost totally black. Beige foam, quite compac...</td>\n",
       "      <td>1235916604</td>\n",
       "    </tr>\n",
       "    <tr>\n",
       "      <th>3</th>\n",
       "      <td>5.0</td>\n",
       "      <td>47969</td>\n",
       "      <td>10325</td>\n",
       "      <td>Sausa Pils</td>\n",
       "      <td>German Pilsener</td>\n",
       "      <td>3.5</td>\n",
       "      <td>3.0</td>\n",
       "      <td>3.0</td>\n",
       "      <td>2.5</td>\n",
       "      <td>stcules</td>\n",
       "      <td>3.0</td>\n",
       "      <td>Golden yellow color. White, compact foam, quit...</td>\n",
       "      <td>1234725145</td>\n",
       "    </tr>\n",
       "    <tr>\n",
       "      <th>4</th>\n",
       "      <td>7.7</td>\n",
       "      <td>64883</td>\n",
       "      <td>1075</td>\n",
       "      <td>Cauldron DIPA</td>\n",
       "      <td>American Double / Imperial IPA</td>\n",
       "      <td>4.0</td>\n",
       "      <td>4.5</td>\n",
       "      <td>4.0</td>\n",
       "      <td>4.0</td>\n",
       "      <td>johnmichaelsen</td>\n",
       "      <td>4.5</td>\n",
       "      <td>According to the website, the style for the Ca...</td>\n",
       "      <td>1293735206</td>\n",
       "    </tr>\n",
       "  </tbody>\n",
       "</table>\n",
       "</div>"
      ],
      "text/plain": [
       "   beer_ABV  beer_beerId  beer_brewerId               beer_name  \\\n",
       "0       5.0        47986          10325            Sausa Weizen   \n",
       "1       6.2        48213          10325                Red Moon   \n",
       "2       6.5        48215          10325  Black Horse Black Beer   \n",
       "3       5.0        47969          10325              Sausa Pils   \n",
       "4       7.7        64883           1075           Cauldron DIPA   \n",
       "\n",
       "                       beer_style  review_appearance  review_palette  \\\n",
       "0                      Hefeweizen                2.5             2.0   \n",
       "1              English Strong Ale                3.0             2.5   \n",
       "2          Foreign / Export Stout                3.0             2.5   \n",
       "3                 German Pilsener                3.5             3.0   \n",
       "4  American Double / Imperial IPA                4.0             4.5   \n",
       "\n",
       "   review_overall  review_taste review_profileName  review_aroma  \\\n",
       "0             1.5           1.5            stcules           1.5   \n",
       "1             3.0           3.0            stcules           3.0   \n",
       "2             3.0           3.0            stcules           3.0   \n",
       "3             3.0           2.5            stcules           3.0   \n",
       "4             4.0           4.0     johnmichaelsen           4.5   \n",
       "\n",
       "                                         review_text  review_time  \n",
       "0  A lot of foam. But a lot. In the smell some ba...   1234817823  \n",
       "1  Dark red color, light beige foam, average. In ...   1235915097  \n",
       "2  Almost totally black. Beige foam, quite compac...   1235916604  \n",
       "3  Golden yellow color. White, compact foam, quit...   1234725145  \n",
       "4  According to the website, the style for the Ca...   1293735206  "
      ]
     },
     "execution_count": 10,
     "metadata": {},
     "output_type": "execute_result"
    }
   ],
   "source": [
    "new_beer_data.head()"
   ]
  },
  {
   "cell_type": "code",
   "execution_count": 11,
   "metadata": {},
   "outputs": [],
   "source": [
    "#removing null values\n",
    "new_beer_data = new_beer_data.dropna()"
   ]
  },
  {
   "cell_type": "code",
   "execution_count": 12,
   "metadata": {},
   "outputs": [
    {
     "data": {
      "text/html": [
       "<div>\n",
       "<style scoped>\n",
       "    .dataframe tbody tr th:only-of-type {\n",
       "        vertical-align: middle;\n",
       "    }\n",
       "\n",
       "    .dataframe tbody tr th {\n",
       "        vertical-align: top;\n",
       "    }\n",
       "\n",
       "    .dataframe thead th {\n",
       "        text-align: right;\n",
       "    }\n",
       "</style>\n",
       "<table border=\"1\" class=\"dataframe\">\n",
       "  <thead>\n",
       "    <tr style=\"text-align: right;\">\n",
       "      <th></th>\n",
       "      <th>Total</th>\n",
       "      <th>Percent %</th>\n",
       "    </tr>\n",
       "  </thead>\n",
       "  <tbody>\n",
       "    <tr>\n",
       "      <th>review_time</th>\n",
       "      <td>0</td>\n",
       "      <td>0.0</td>\n",
       "    </tr>\n",
       "    <tr>\n",
       "      <th>review_text</th>\n",
       "      <td>0</td>\n",
       "      <td>0.0</td>\n",
       "    </tr>\n",
       "    <tr>\n",
       "      <th>review_aroma</th>\n",
       "      <td>0</td>\n",
       "      <td>0.0</td>\n",
       "    </tr>\n",
       "    <tr>\n",
       "      <th>review_profileName</th>\n",
       "      <td>0</td>\n",
       "      <td>0.0</td>\n",
       "    </tr>\n",
       "    <tr>\n",
       "      <th>review_taste</th>\n",
       "      <td>0</td>\n",
       "      <td>0.0</td>\n",
       "    </tr>\n",
       "    <tr>\n",
       "      <th>review_overall</th>\n",
       "      <td>0</td>\n",
       "      <td>0.0</td>\n",
       "    </tr>\n",
       "    <tr>\n",
       "      <th>review_palette</th>\n",
       "      <td>0</td>\n",
       "      <td>0.0</td>\n",
       "    </tr>\n",
       "    <tr>\n",
       "      <th>review_appearance</th>\n",
       "      <td>0</td>\n",
       "      <td>0.0</td>\n",
       "    </tr>\n",
       "    <tr>\n",
       "      <th>beer_style</th>\n",
       "      <td>0</td>\n",
       "      <td>0.0</td>\n",
       "    </tr>\n",
       "    <tr>\n",
       "      <th>beer_name</th>\n",
       "      <td>0</td>\n",
       "      <td>0.0</td>\n",
       "    </tr>\n",
       "    <tr>\n",
       "      <th>beer_brewerId</th>\n",
       "      <td>0</td>\n",
       "      <td>0.0</td>\n",
       "    </tr>\n",
       "    <tr>\n",
       "      <th>beer_beerId</th>\n",
       "      <td>0</td>\n",
       "      <td>0.0</td>\n",
       "    </tr>\n",
       "    <tr>\n",
       "      <th>beer_ABV</th>\n",
       "      <td>0</td>\n",
       "      <td>0.0</td>\n",
       "    </tr>\n",
       "  </tbody>\n",
       "</table>\n",
       "</div>"
      ],
      "text/plain": [
       "                    Total  Percent %\n",
       "review_time             0        0.0\n",
       "review_text             0        0.0\n",
       "review_aroma            0        0.0\n",
       "review_profileName      0        0.0\n",
       "review_taste            0        0.0\n",
       "review_overall          0        0.0\n",
       "review_palette          0        0.0\n",
       "review_appearance       0        0.0\n",
       "beer_style              0        0.0\n",
       "beer_name               0        0.0\n",
       "beer_brewerId           0        0.0\n",
       "beer_beerId             0        0.0\n",
       "beer_ABV                0        0.0"
      ]
     },
     "execution_count": 12,
     "metadata": {},
     "output_type": "execute_result"
    }
   ],
   "source": [
    "#Checking is there any null in our dataset\n",
    "total = new_beer_data.isnull().sum().sort_values(ascending=False)\n",
    "percent = (new_beer_data.isnull().sum()/new_beer_data.isnull().count()).sort_values(ascending=False)*100\n",
    "missing_data = pd.concat([total,percent],axis=1,keys=['Total','Percent %'])\n",
    "missing_data"
   ]
  },
  {
   "cell_type": "markdown",
   "metadata": {},
   "source": [
    "As we can see there is no null values in dataframe now we can move forward in analysis"
   ]
  },
  {
   "cell_type": "code",
   "execution_count": 13,
   "metadata": {},
   "outputs": [
    {
     "name": "stdout",
     "output_type": "stream",
     "text": [
      "<class 'pandas.core.frame.DataFrame'>\n",
      "Int64Index: 508358 entries, 0 to 528796\n",
      "Data columns (total 13 columns):\n",
      " #   Column              Non-Null Count   Dtype         \n",
      "---  ------              --------------   -----         \n",
      " 0   beer_ABV            508358 non-null  float64       \n",
      " 1   beer_beerId         508358 non-null  int64         \n",
      " 2   beer_brewerId       508358 non-null  int64         \n",
      " 3   beer_name           508358 non-null  object        \n",
      " 4   beer_style          508358 non-null  object        \n",
      " 5   review_appearance   508358 non-null  float64       \n",
      " 6   review_palette      508358 non-null  float64       \n",
      " 7   review_overall      508358 non-null  float64       \n",
      " 8   review_taste        508358 non-null  float64       \n",
      " 9   review_profileName  508358 non-null  object        \n",
      " 10  review_aroma        508358 non-null  float64       \n",
      " 11  review_text         508358 non-null  object        \n",
      " 12  review_time         508358 non-null  datetime64[ns]\n",
      "dtypes: datetime64[ns](1), float64(6), int64(2), object(4)\n",
      "memory usage: 54.3+ MB\n"
     ]
    }
   ],
   "source": [
    "#Now we will change the datatype of review_time column with datetime datatype\n",
    "new_beer_data['review_time'] = pd.to_datetime(new_beer_data['review_time'],unit='s')\n",
    "new_beer_data.info()"
   ]
  },
  {
   "cell_type": "markdown",
   "metadata": {},
   "source": [
    "As we can see we have convert the integer datatype into datetime datatype"
   ]
  },
  {
   "cell_type": "code",
   "execution_count": 14,
   "metadata": {},
   "outputs": [
    {
     "data": {
      "text/plain": [
       "0   2009-02-16 20:57:03\n",
       "1   2009-03-01 13:44:57\n",
       "2   2009-03-01 14:10:04\n",
       "3   2009-02-15 19:12:25\n",
       "4   2010-12-30 18:53:26\n",
       "Name: review_time, dtype: datetime64[ns]"
      ]
     },
     "execution_count": 14,
     "metadata": {},
     "output_type": "execute_result"
    }
   ],
   "source": [
    "new_beer_data['review_time'].head()"
   ]
  },
  {
   "cell_type": "markdown",
   "metadata": {},
   "source": [
    "Now review_time column can be easily read as convert the datatype into datetime"
   ]
  },
  {
   "cell_type": "markdown",
   "metadata": {},
   "source": [
    "## Text Preprocessing.\n",
    "our data requires some preprocessing before we go on further with analysis:-\n",
    "\n",
    "1. Remove any punctuations or limited set of special characters like , or . or # etc.\n",
    "2. Check if the word is made up of english letters and is not alpha-numeric\n",
    "3. Check to see if the length of the word is greater than 2 (as it was researched that there is no adjective in 2-letters)\n",
    "4. Convert the word to lowercase<br>\n",
    "\n",
    "After which we collect the words used to describe positive and negative reviews"
   ]
  },
  {
   "cell_type": "code",
   "execution_count": 15,
   "metadata": {},
   "outputs": [
    {
     "name": "stdout",
     "output_type": "stream",
     "text": [
      "The Caldera Pale Ale poured an clear orange hue with a finger foam head. It had some tight bubble lacing patterns. The aroma was semi sweet malty smell with some pine hopiness jumping into the nose. It had a powerful aroma for a pale ale. Taste was good. It has a bread malt up front with a moderate hop feel on the back end. In the mouth it had a good sharp bite on the finish. Overall a good solid local pale ale.\n",
      "==================================================\n",
      "Pours a brilliant, shimmering honey color. Very generous off white head, sticks around with good lacing. Smells like im sticking my head in a barrel of fresh hops. very floral and earthy, some citrus. the hop presence in the smell of this beer is assertive and strong. Taste gives way to fresh, juicy grapefruit and resinous pine. Extremely vibrant. Definitely hop forward, not a lot of malt to explore in this one. Mouthfeel is medium bodied, carbonation is nice and moderate. Has a nice flowing, juicy feel to it in the mouth, I can tell this beer is very fresh. Highly drinkable, I'll get right down to it and say this is an excellent IPA I could drink all evening. They did a great job on this beer, i'd consider it in the class of the best IPAs I've had. This is also my introduction to craft beer in a can, very impressed all in all.\n",
      "==================================================\n"
     ]
    }
   ],
   "source": [
    "#printing some random reviews for checking punctuation or alpha-numeric\n",
    "print(new_beer_data['review_text'].values[100])\n",
    "print('='*50)\n",
    "print(new_beer_data['review_text'].values[420])\n",
    "print('='*50)"
   ]
  },
  {
   "cell_type": "code",
   "execution_count": 16,
   "metadata": {},
   "outputs": [],
   "source": [
    "def decontracted(phrase):\n",
    "    '''\n",
    "    Expanding english language i.e: i'll -> i will\n",
    "    \n",
    "    '''\n",
    "    phrase = re.sub(r\"won't\", \"will not\", phrase)\n",
    "    phrase = re.sub(r\"can\\'t\", \"can not\", phrase)\n",
    "    phrase = re.sub(r\"n\\'t\", \" not\", phrase)\n",
    "    phrase = re.sub(r\"\\'re\", \" are\", phrase)\n",
    "    phrase = re.sub(r\"\\'s\", \" is\", phrase)\n",
    "    phrase = re.sub(r\"\\'d\", \" would\", phrase)\n",
    "    phrase = re.sub(r\"\\'ll\", \" will\", phrase)\n",
    "    phrase = re.sub(r\"\\'t\", \" not\", phrase)\n",
    "    phrase = re.sub(r\"\\'ve\", \" have\", phrase)\n",
    "    phrase = re.sub(r\"\\'m\", \" am\", phrase)\n",
    "    return phrase"
   ]
  },
  {
   "cell_type": "code",
   "execution_count": 17,
   "metadata": {},
   "outputs": [],
   "source": [
    "def preprocess(x):\n",
    "    x = str(x).lower()\n",
    "    #remove words with numbers python                       \n",
    "    x = re.sub(\"\\S*\\d\\S*\", \"\", x).strip()\n",
    "    #remove urls from text python\n",
    "    x = re.sub(r\"http\\S+\", \"\", x)\n",
    "    #remove spacial character\n",
    "    x = re.sub('[^A-Za-z0-9]+', ' ', x)\n",
    "    #expand english words\n",
    "    x = decontracted(x)\n",
    "    return x\n",
    "    "
   ]
  },
  {
   "cell_type": "markdown",
   "metadata": {},
   "source": [
    "### Cleaning the review text column"
   ]
  },
  {
   "cell_type": "code",
   "execution_count": 18,
   "metadata": {},
   "outputs": [
    {
     "name": "stdout",
     "output_type": "stream",
     "text": [
      "Total time taken to clean text : 66.9760474 seconds\n"
     ]
    }
   ],
   "source": [
    "start_time = time.clock()\n",
    "new_beer_data['review_text'] = new_beer_data['review_text'].apply(preprocess)\n",
    "print('Total time taken to clean text :',time.clock() - start_time, \"seconds\")"
   ]
  },
  {
   "cell_type": "code",
   "execution_count": 19,
   "metadata": {},
   "outputs": [
    {
     "data": {
      "text/plain": [
       "'a lot of foam but a lot in the smell some banana and then lactic and tart not a good start quite dark orange in color with a lively carbonation now visible under the foam again tending to lactic sourness same for the taste with some yeast and banana '"
      ]
     },
     "execution_count": 19,
     "metadata": {},
     "output_type": "execute_result"
    }
   ],
   "source": [
    "new_beer_data['review_text'].values[0]"
   ]
  },
  {
   "cell_type": "markdown",
   "metadata": {},
   "source": [
    "`As we can see we removed unwanted words and special characters and make every word lower`"
   ]
  },
  {
   "cell_type": "markdown",
   "metadata": {},
   "source": [
    "### Checking for duplicate data"
   ]
  },
  {
   "cell_type": "code",
   "execution_count": 20,
   "metadata": {},
   "outputs": [],
   "source": [
    "#creating a copy of dataframe\n",
    "unique_beer_data = new_beer_data.copy()"
   ]
  },
  {
   "cell_type": "code",
   "execution_count": 21,
   "metadata": {},
   "outputs": [
    {
     "name": "stdout",
     "output_type": "stream",
     "text": [
      "There are 5295 duplicate rating entries in the data..\n"
     ]
    }
   ],
   "source": [
    "dup_bool = unique_beer_data.duplicated(['beer_name', 'beer_style','review_profileName' ])\n",
    "dups = sum(dup_bool) # by considering all columns..( including timestamp)\n",
    "print(\"There are {} duplicate rating entries in the data..\".format(dups))"
   ]
  },
  {
   "cell_type": "code",
   "execution_count": 22,
   "metadata": {},
   "outputs": [],
   "source": [
    "#Drop duplicates\n",
    "unique_beer_data = unique_beer_data.drop_duplicates(subset=['beer_name', 'beer_style','review_profileName'],keep='first')"
   ]
  },
  {
   "cell_type": "code",
   "execution_count": 23,
   "metadata": {},
   "outputs": [],
   "source": [
    "#Check whether there is duplication or not"
   ]
  },
  {
   "cell_type": "code",
   "execution_count": 24,
   "metadata": {},
   "outputs": [
    {
     "name": "stdout",
     "output_type": "stream",
     "text": [
      "There are 0 duplicate rating entries in the data..\n"
     ]
    }
   ],
   "source": [
    "dup_bool = unique_beer_data.duplicated(['beer_name', 'beer_style','review_profileName' ])\n",
    "dups = sum(dup_bool) # by considering all columns..( including timestamp)\n",
    "print(\"There are {} duplicate rating entries in the data..\".format(dups))"
   ]
  },
  {
   "cell_type": "markdown",
   "metadata": {},
   "source": [
    "### Analyse Ratings"
   ]
  },
  {
   "cell_type": "code",
   "execution_count": 25,
   "metadata": {},
   "outputs": [],
   "source": [
    "#Check if there is any unwanted rating i.e out of rating range as rating range is 1 to 5 \n",
    "#lets see if there is any rating that is out of rating range\n",
    "\n",
    "#Lets remove ratings which are not in range as we analyse only two features are contains 0 rating which are review_appearance and review_overall\n",
    "unique_beer_data = unique_beer_data[(unique_beer_data['review_appearance'] >=1) & unique_beer_data['review_overall'] >=1]"
   ]
  },
  {
   "cell_type": "code",
   "execution_count": 26,
   "metadata": {},
   "outputs": [
    {
     "data": {
      "text/plain": [
       "5.0"
      ]
     },
     "execution_count": 26,
     "metadata": {},
     "output_type": "execute_result"
    }
   ],
   "source": [
    "unique_beer_data['review_overall'].max()"
   ]
  },
  {
   "cell_type": "code",
   "execution_count": 27,
   "metadata": {},
   "outputs": [
    {
     "name": "stdout",
     "output_type": "stream",
     "text": [
      "numerical variables:  ['beer_ABV', 'beer_beerId', 'beer_brewerId', 'review_appearance', 'review_palette', 'review_overall', 'review_taste', 'review_aroma']\n",
      "Total number of numerical variable: 8\n"
     ]
    }
   ],
   "source": [
    "#Check how many are discrete variable in dataset\n",
    "discrete_vars = [var for var in unique_beer_data.columns if unique_beer_data[var].dtypes!='O'and  unique_beer_data[var].dtypes!='datetime64[ns]']\n",
    "print('numerical variables: ',discrete_vars)\n",
    "print('Total number of numerical variable:',len(discrete_vars))"
   ]
  },
  {
   "cell_type": "code",
   "execution_count": 28,
   "metadata": {},
   "outputs": [
    {
     "name": "stdout",
     "output_type": "stream",
     "text": [
      "numerical variables:  ['beer_name', 'beer_style', 'review_profileName', 'review_text']\n",
      "Total number of categorical variable: 4\n"
     ]
    }
   ],
   "source": [
    "#Check how many are categorical variable in dataset\n",
    "cat_vars = [var for var in unique_beer_data.columns if unique_beer_data[var].dtypes =='O'and unique_beer_data[var].dtypes!='datetime64[ns]']\n",
    "print('numerical variables: ',cat_vars)\n",
    "print('Total number of categorical variable:',len(cat_vars))"
   ]
  },
  {
   "cell_type": "code",
   "execution_count": 29,
   "metadata": {},
   "outputs": [
    {
     "name": "stdout",
     "output_type": "stream",
     "text": [
      "<class 'pandas.core.frame.DataFrame'>\n",
      "Int64Index: 503060 entries, 0 to 528796\n",
      "Data columns (total 13 columns):\n",
      " #   Column              Non-Null Count   Dtype         \n",
      "---  ------              --------------   -----         \n",
      " 0   beer_ABV            503060 non-null  float64       \n",
      " 1   beer_beerId         503060 non-null  int64         \n",
      " 2   beer_brewerId       503060 non-null  int64         \n",
      " 3   beer_name           503060 non-null  object        \n",
      " 4   beer_style          503060 non-null  object        \n",
      " 5   review_appearance   503060 non-null  float64       \n",
      " 6   review_palette      503060 non-null  float64       \n",
      " 7   review_overall      503060 non-null  float64       \n",
      " 8   review_taste        503060 non-null  float64       \n",
      " 9   review_profileName  503060 non-null  object        \n",
      " 10  review_aroma        503060 non-null  float64       \n",
      " 11  review_text         503060 non-null  object        \n",
      " 12  review_time         503060 non-null  datetime64[ns]\n",
      "dtypes: datetime64[ns](1), float64(6), int64(2), object(4)\n",
      "memory usage: 53.7+ MB\n"
     ]
    }
   ],
   "source": [
    "unique_beer_data.info()"
   ]
  },
  {
   "cell_type": "markdown",
   "metadata": {},
   "source": [
    "### Distribution of ratings\n",
    "#### Review Overall"
   ]
  },
  {
   "cell_type": "code",
   "execution_count": 108,
   "metadata": {},
   "outputs": [
    {
     "data": {
      "text/plain": [
       "4.0    187639\n",
       "4.5    106338\n",
       "3.5     93675\n",
       "3.0     50457\n",
       "5.0     29791\n",
       "2.5     17299\n",
       "2.0     11108\n",
       "1.5      3682\n",
       "1.0      3071\n",
       "Name: review_overall, dtype: int64"
      ]
     },
     "execution_count": 108,
     "metadata": {},
     "output_type": "execute_result"
    }
   ],
   "source": [
    "#looking the each rating distribution for overall review\n",
    "unique_beer_data['review_overall'].value_counts()"
   ]
  },
  {
   "cell_type": "code",
   "execution_count": 30,
   "metadata": {},
   "outputs": [],
   "source": [
    "#Create plot which shows percentage of each distribution\n",
    "\n",
    "def count_plot(df,feature,title='',size=2):\n",
    "    '''\n",
    "    Parameters\n",
    "    ----------\n",
    "    df : DataFrame of dataset\n",
    "    feature : feature of dataframe\n",
    "    title : description of plot\n",
    "    size : by default is 2\n",
    "    '''\n",
    "    f,ax=plt.subplots(1,1,figsize=(4*size,3*size))\n",
    "    total = float(len(df))\n",
    "    sns.countplot(df[feature],order=df[feature].value_counts().index,palette='Set2')\n",
    "    plt.title(title)\n",
    "    for p in ax.patches:\n",
    "        height = p.get_height()\n",
    "        ax.text(p.get_x()+p.get_width()/2.,\n",
    "               height+3,\n",
    "               '{:1.2f}%'.format(100*height/total),\n",
    "               ha='center')\n",
    "    "
   ]
  },
  {
   "cell_type": "code",
   "execution_count": 31,
   "metadata": {},
   "outputs": [
    {
     "data": {
      "image/png": "[encoded data removed]",
      "text/plain": [
       "<Figure size 576x432 with 1 Axes>"
      ]
     },
     "metadata": {
      "needs_background": "light"
     },
     "output_type": "display_data"
    }
   ],
   "source": [
    "count_plot(df=unique_beer_data,feature='review_overall')"
   ]
  },
  {
   "cell_type": "markdown",
   "metadata": {},
   "source": [
    "`From the above plot we can see that rating 4.0 contains most percentage value which has 37.30% followed by rating 4.5 which contains the 21.14% in overall review feature`"
   ]
  },
  {
   "cell_type": "markdown",
   "metadata": {},
   "source": [
    "#### Review appearance"
   ]
  },
  {
   "cell_type": "code",
   "execution_count": 32,
   "metadata": {},
   "outputs": [
    {
     "data": {
      "text/plain": [
       "4.0    215657\n",
       "3.5     97768\n",
       "4.5     97107\n",
       "3.0     49509\n",
       "5.0     22418\n",
       "2.5     11373\n",
       "2.0      6958\n",
       "1.5      1492\n",
       "1.0       778\n",
       "Name: review_appearance, dtype: int64"
      ]
     },
     "execution_count": 32,
     "metadata": {},
     "output_type": "execute_result"
    }
   ],
   "source": [
    "#looking the each rating distribution for review appearence\n",
    "unique_beer_data['review_appearance'].value_counts()"
   ]
  },
  {
   "cell_type": "code",
   "execution_count": 114,
   "metadata": {},
   "outputs": [
    {
     "data": {
      "image/png": "[encoded data removed]",
      "text/plain": [
       "<Figure size 576x432 with 1 Axes>"
      ]
     },
     "metadata": {},
     "output_type": "display_data"
    }
   ],
   "source": [
    "count_plot(df=unique_beer_data,feature='review_appearance')"
   ]
  },
  {
   "cell_type": "markdown",
   "metadata": {},
   "source": [
    "`From the above plot we can see that rating 4.0 contains most percentage value which has 42.87% followed by rating 3.5 which contains the 19.43% and rating 4.5 which is equalt percentage to 3.5(19.30%) in review appearence feature`"
   ]
  },
  {
   "cell_type": "markdown",
   "metadata": {},
   "source": [
    "### Review taste"
   ]
  },
  {
   "cell_type": "code",
   "execution_count": 34,
   "metadata": {},
   "outputs": [
    {
     "data": {
      "text/plain": [
       "4.0    196934\n",
       "3.5    105088\n",
       "4.5     83792\n",
       "3.0     62662\n",
       "5.0     20952\n",
       "2.5     18194\n",
       "2.0     10814\n",
       "1.5      2925\n",
       "1.0      1699\n",
       "Name: review_taste, dtype: int64"
      ]
     },
     "execution_count": 34,
     "metadata": {},
     "output_type": "execute_result"
    }
   ],
   "source": [
    "#looking the each rating distribution for review taste\n",
    "unique_beer_data['review_taste'].value_counts()"
   ]
  },
  {
   "cell_type": "code",
   "execution_count": 113,
   "metadata": {},
   "outputs": [
    {
     "data": {
      "image/png": "[encoded data removed]",
      "text/plain": [
       "<Figure size 576x432 with 1 Axes>"
      ]
     },
     "metadata": {},
     "output_type": "display_data"
    }
   ],
   "source": [
    "count_plot(df=unique_beer_data,feature='review_taste')"
   ]
  },
  {
   "cell_type": "markdown",
   "metadata": {},
   "source": [
    "`From the above plot we can see that again rating 4.0 contains most percentage value which has 39.15% followed by rating 3.5 which contains the 20.89% in review appearence taste`"
   ]
  },
  {
   "cell_type": "markdown",
   "metadata": {},
   "source": [
    "### Review aroma"
   ]
  },
  {
   "cell_type": "code",
   "execution_count": 111,
   "metadata": {},
   "outputs": [
    {
     "data": {
      "text/plain": [
       "4.0    174088\n",
       "4.5    112199\n",
       "3.5    100314\n",
       "3.0     49979\n",
       "5.0     28111\n",
       "2.5     19593\n",
       "2.0     12068\n",
       "1.5      4089\n",
       "1.0      2619\n",
       "Name: review_aroma, dtype: int64"
      ]
     },
     "execution_count": 111,
     "metadata": {},
     "output_type": "execute_result"
    }
   ],
   "source": [
    "#looking the each rating distribution for review taste\n",
    "unique_beer_data['review_aroma'].value_counts()"
   ]
  },
  {
   "cell_type": "code",
   "execution_count": 112,
   "metadata": {},
   "outputs": [
    {
     "data": {
      "image/png": "[encoded data removed]",
      "text/plain": [
       "<Figure size 576x432 with 1 Axes>"
      ]
     },
     "metadata": {},
     "output_type": "display_data"
    }
   ],
   "source": [
    "count_plot(df=unique_beer_data,feature='review_aroma')"
   ]
  },
  {
   "cell_type": "markdown",
   "metadata": {},
   "source": [
    "`From the above plot we can see that again rating 4.0 contains most percentage value which has 34.61% followed by rating 4.5 which contains the 22.30% in review appearence aroma`"
   ]
  },
  {
   "cell_type": "markdown",
   "metadata": {},
   "source": [
    "`After doing univariate analysing in each feature of reviews we can conclude that most user has given rating 4.0 which is shows that user liked colour,strength,ingredients,taste of beer`"
   ]
  },
  {
   "cell_type": "code",
   "execution_count": 36,
   "metadata": {},
   "outputs": [
    {
     "data": {
      "image/png": "[encoded data removed]",
      "text/plain": [
       "<Figure size 432x288 with 1 Axes>"
      ]
     },
     "metadata": {
      "needs_background": "light"
     },
     "output_type": "display_data"
    },
    {
     "data": {
      "image/png": "[encoded data removed]",
      "text/plain": [
       "<Figure size 432x288 with 1 Axes>"
      ]
     },
     "metadata": {
      "needs_background": "light"
     },
     "output_type": "display_data"
    },
    {
     "data": {
      "image/png": "[encoded data removed]",
      "text/plain": [
       "<Figure size 432x288 with 1 Axes>"
      ]
     },
     "metadata": {
      "needs_background": "light"
     },
     "output_type": "display_data"
    },
    {
     "data": {
      "image/png": "[encoded data removed]",
      "text/plain": [
       "<Figure size 432x288 with 1 Axes>"
      ]
     },
     "metadata": {
      "needs_background": "light"
     },
     "output_type": "display_data"
    },
    {
     "data": {
      "image/png": "[encoded data removed]",
      "text/plain": [
       "<Figure size 432x288 with 1 Axes>"
      ]
     },
     "metadata": {
      "needs_background": "light"
     },
     "output_type": "display_data"
    },
    {
     "data": {
      "image/png": "[encoded data removed]",
      "text/plain": [
       "<Figure size 432x288 with 1 Axes>"
      ]
     },
     "metadata": {
      "needs_background": "light"
     },
     "output_type": "display_data"
    },
    {
     "data": {
      "image/png": "[encoded data removed]",
      "text/plain": [
       "<Figure size 432x288 with 1 Axes>"
      ]
     },
     "metadata": {
      "needs_background": "light"
     },
     "output_type": "display_data"
    },
    {
     "data": {
      "image/png": "[encoded data removed]",
      "text/plain": [
       "<Figure size 432x288 with 1 Axes>"
      ]
     },
     "metadata": {
      "needs_background": "light"
     },
     "output_type": "display_data"
    }
   ],
   "source": [
    "# Let's go ahead and analyse the distributions of these variables\n",
    "def analyse_discrete(df, var):\n",
    "    df[var].hist(bins=20)\n",
    "    plt.ylabel('Number of ratings')\n",
    "    plt.xlabel(var)\n",
    "    plt.title(var)\n",
    "    plt.show()\n",
    "    \n",
    "for var in discrete_vars:\n",
    "    analyse_discrete(unique_beer_data, var)"
   ]
  },
  {
   "cell_type": "markdown",
   "metadata": {},
   "source": [
    "### We can see from above plots most columns has skewness(ABV,BeerId,brewer)"
   ]
  },
  {
   "cell_type": "markdown",
   "metadata": {},
   "source": [
    "### We remove ABV value which have negative value"
   ]
  },
  {
   "cell_type": "code",
   "execution_count": null,
   "metadata": {},
   "outputs": [],
   "source": [
    "unique_beer_data = unique_beer_data[unique_beer_data['beer_ABV']>0]"
   ]
  },
  {
   "cell_type": "markdown",
   "metadata": {},
   "source": [
    "## Questions\n",
    "\n",
    "### 1. Rank top 3 Breweries which produce the strongest beers?"
   ]
  },
  {
   "cell_type": "markdown",
   "metadata": {},
   "source": [
    "` So the strongest beer can be measure from how much percent of alcohol it contains so as we know beer ABV shows the level alcohol in beer more the alcohol more stronger the beer is`"
   ]
  },
  {
   "cell_type": "code",
   "execution_count": null,
   "metadata": {},
   "outputs": [],
   "source": [
    "# Extracting specific problem as per the problem statement as beer abv is for alchol value and\n",
    "# beer name is to know which which beer has high level of alchol then we are sorting in descending to know the high level of alchol\n",
    "top = unique_beer_data[['beer_ABV','beer_name']]\n",
    "top_3_beer = top.sort_values(by='beer_ABV',ascending=False).drop_duplicates('beer_name').head(3)\n",
    "top_3_beer"
   ]
  },
  {
   "cell_type": "markdown",
   "metadata": {},
   "source": [
    "###  `The top 3 Breweries are :-`\n",
    "* Schorschbräu Schorschbock 57%\n",
    "* Schorschbräu Schorschbock 43%\t\n",
    "* Schorschbräu Schorschbock 40%\t"
   ]
  },
  {
   "cell_type": "code",
   "execution_count": 106,
   "metadata": {},
   "outputs": [],
   "source": [
    "def bar_plot(df,x,y,alpha,title='',size=2):\n",
    "    f,ax=plt.subplots(1,1,figsize=(6*size,5*size))\n",
    "    total = float(len(df))\n",
    "    sns.barplot(df[x].value_counts().index,df[y].values,alpha=alpha,palette='Set2')\n",
    "    plt.title(title)"
   ]
  },
  {
   "cell_type": "code",
   "execution_count": 107,
   "metadata": {},
   "outputs": [
    {
     "data": {
      "image/png": "[encoded data removed]",
      "text/plain": [
       "<Figure size 864x720 with 1 Axes>"
      ]
     },
     "metadata": {},
     "output_type": "display_data"
    }
   ],
   "source": [
    "#lets plot Top 3 breweries which produce the strongest beers\n",
    "bar_plot(df=top_3_beer,x='beer_name',y='beer_ABV',alpha=0.7,title='Top 3 Breweries which produce the strongest beers')"
   ]
  },
  {
   "cell_type": "markdown",
   "metadata": {},
   "source": [
    "### 2.Which year did beers enjoy the highest ratings? "
   ]
  },
  {
   "cell_type": "code",
   "execution_count": 43,
   "metadata": {},
   "outputs": [
    {
     "data": {
      "text/html": [
       "<div>\n",
       "<style scoped>\n",
       "    .dataframe tbody tr th:only-of-type {\n",
       "        vertical-align: middle;\n",
       "    }\n",
       "\n",
       "    .dataframe tbody tr th {\n",
       "        vertical-align: top;\n",
       "    }\n",
       "\n",
       "    .dataframe thead th {\n",
       "        text-align: right;\n",
       "    }\n",
       "</style>\n",
       "<table border=\"1\" class=\"dataframe\">\n",
       "  <thead>\n",
       "    <tr style=\"text-align: right;\">\n",
       "      <th></th>\n",
       "      <th>review_overall</th>\n",
       "      <th>review_time</th>\n",
       "    </tr>\n",
       "  </thead>\n",
       "  <tbody>\n",
       "    <tr>\n",
       "      <th>0</th>\n",
       "      <td>1.5</td>\n",
       "      <td>2009-02-16 20:57:03</td>\n",
       "    </tr>\n",
       "    <tr>\n",
       "      <th>1</th>\n",
       "      <td>3.0</td>\n",
       "      <td>2009-03-01 13:44:57</td>\n",
       "    </tr>\n",
       "    <tr>\n",
       "      <th>2</th>\n",
       "      <td>3.0</td>\n",
       "      <td>2009-03-01 14:10:04</td>\n",
       "    </tr>\n",
       "    <tr>\n",
       "      <th>3</th>\n",
       "      <td>3.0</td>\n",
       "      <td>2009-02-15 19:12:25</td>\n",
       "    </tr>\n",
       "    <tr>\n",
       "      <th>4</th>\n",
       "      <td>4.0</td>\n",
       "      <td>2010-12-30 18:53:26</td>\n",
       "    </tr>\n",
       "    <tr>\n",
       "      <th>...</th>\n",
       "      <td>...</td>\n",
       "      <td>...</td>\n",
       "    </tr>\n",
       "    <tr>\n",
       "      <th>528792</th>\n",
       "      <td>4.5</td>\n",
       "      <td>2008-12-04 03:49:29</td>\n",
       "    </tr>\n",
       "    <tr>\n",
       "      <th>528793</th>\n",
       "      <td>3.5</td>\n",
       "      <td>2006-04-15 21:06:14</td>\n",
       "    </tr>\n",
       "    <tr>\n",
       "      <th>528794</th>\n",
       "      <td>3.0</td>\n",
       "      <td>2008-12-07 09:05:43</td>\n",
       "    </tr>\n",
       "    <tr>\n",
       "      <th>528795</th>\n",
       "      <td>3.5</td>\n",
       "      <td>2006-12-22 20:11:57</td>\n",
       "    </tr>\n",
       "    <tr>\n",
       "      <th>528796</th>\n",
       "      <td>2.5</td>\n",
       "      <td>2006-09-06 19:55:52</td>\n",
       "    </tr>\n",
       "  </tbody>\n",
       "</table>\n",
       "<p>503060 rows × 2 columns</p>\n",
       "</div>"
      ],
      "text/plain": [
       "        review_overall         review_time\n",
       "0                  1.5 2009-02-16 20:57:03\n",
       "1                  3.0 2009-03-01 13:44:57\n",
       "2                  3.0 2009-03-01 14:10:04\n",
       "3                  3.0 2009-02-15 19:12:25\n",
       "4                  4.0 2010-12-30 18:53:26\n",
       "...                ...                 ...\n",
       "528792             4.5 2008-12-04 03:49:29\n",
       "528793             3.5 2006-04-15 21:06:14\n",
       "528794             3.0 2008-12-07 09:05:43\n",
       "528795             3.5 2006-12-22 20:11:57\n",
       "528796             2.5 2006-09-06 19:55:52\n",
       "\n",
       "[503060 rows x 2 columns]"
      ]
     },
     "execution_count": 43,
     "metadata": {},
     "output_type": "execute_result"
    }
   ],
   "source": [
    "#Here we will find highest rating according to year so we will only exctract those columns which are related to our problems\n",
    "unique_beer_data[['review_overall','review_time']]"
   ]
  },
  {
   "cell_type": "code",
   "execution_count": 44,
   "metadata": {},
   "outputs": [],
   "source": [
    "#So in review_time column we will extract only year values from review_time by using datetime index\n",
    "unique_beer_data['review_year'] = pd.DatetimeIndex(unique_beer_data['review_time']).year"
   ]
  },
  {
   "cell_type": "code",
   "execution_count": 45,
   "metadata": {},
   "outputs": [],
   "source": [
    "high_rating_beer = np.round(unique_beer_data[['review_overall','review_year']],1)"
   ]
  },
  {
   "cell_type": "code",
   "execution_count": 46,
   "metadata": {},
   "outputs": [
    {
     "data": {
      "text/html": [
       "<div>\n",
       "<style scoped>\n",
       "    .dataframe tbody tr th:only-of-type {\n",
       "        vertical-align: middle;\n",
       "    }\n",
       "\n",
       "    .dataframe tbody tr th {\n",
       "        vertical-align: top;\n",
       "    }\n",
       "\n",
       "    .dataframe thead th {\n",
       "        text-align: right;\n",
       "    }\n",
       "</style>\n",
       "<table border=\"1\" class=\"dataframe\">\n",
       "  <thead>\n",
       "    <tr style=\"text-align: right;\">\n",
       "      <th>review_year</th>\n",
       "      <th>1998</th>\n",
       "      <th>1999</th>\n",
       "      <th>2000</th>\n",
       "      <th>2001</th>\n",
       "      <th>2002</th>\n",
       "      <th>2003</th>\n",
       "      <th>2004</th>\n",
       "      <th>2005</th>\n",
       "      <th>2006</th>\n",
       "      <th>2007</th>\n",
       "      <th>2008</th>\n",
       "      <th>2009</th>\n",
       "      <th>2010</th>\n",
       "      <th>2011</th>\n",
       "      <th>2012</th>\n",
       "    </tr>\n",
       "    <tr>\n",
       "      <th>review_overall</th>\n",
       "      <th></th>\n",
       "      <th></th>\n",
       "      <th></th>\n",
       "      <th></th>\n",
       "      <th></th>\n",
       "      <th></th>\n",
       "      <th></th>\n",
       "      <th></th>\n",
       "      <th></th>\n",
       "      <th></th>\n",
       "      <th></th>\n",
       "      <th></th>\n",
       "      <th></th>\n",
       "      <th></th>\n",
       "      <th></th>\n",
       "    </tr>\n",
       "  </thead>\n",
       "  <tbody>\n",
       "    <tr>\n",
       "      <th>1.0</th>\n",
       "      <td>0</td>\n",
       "      <td>0</td>\n",
       "      <td>0</td>\n",
       "      <td>13</td>\n",
       "      <td>68</td>\n",
       "      <td>114</td>\n",
       "      <td>159</td>\n",
       "      <td>205</td>\n",
       "      <td>311</td>\n",
       "      <td>287</td>\n",
       "      <td>379</td>\n",
       "      <td>482</td>\n",
       "      <td>577</td>\n",
       "      <td>471</td>\n",
       "      <td>5</td>\n",
       "    </tr>\n",
       "    <tr>\n",
       "      <th>1.5</th>\n",
       "      <td>0</td>\n",
       "      <td>0</td>\n",
       "      <td>0</td>\n",
       "      <td>0</td>\n",
       "      <td>88</td>\n",
       "      <td>172</td>\n",
       "      <td>205</td>\n",
       "      <td>217</td>\n",
       "      <td>383</td>\n",
       "      <td>351</td>\n",
       "      <td>465</td>\n",
       "      <td>528</td>\n",
       "      <td>619</td>\n",
       "      <td>635</td>\n",
       "      <td>19</td>\n",
       "    </tr>\n",
       "    <tr>\n",
       "      <th>2.0</th>\n",
       "      <td>0</td>\n",
       "      <td>0</td>\n",
       "      <td>0</td>\n",
       "      <td>28</td>\n",
       "      <td>211</td>\n",
       "      <td>497</td>\n",
       "      <td>554</td>\n",
       "      <td>663</td>\n",
       "      <td>1084</td>\n",
       "      <td>1016</td>\n",
       "      <td>1491</td>\n",
       "      <td>1615</td>\n",
       "      <td>1805</td>\n",
       "      <td>2091</td>\n",
       "      <td>53</td>\n",
       "    </tr>\n",
       "    <tr>\n",
       "      <th>2.5</th>\n",
       "      <td>0</td>\n",
       "      <td>0</td>\n",
       "      <td>0</td>\n",
       "      <td>0</td>\n",
       "      <td>283</td>\n",
       "      <td>777</td>\n",
       "      <td>872</td>\n",
       "      <td>1047</td>\n",
       "      <td>1638</td>\n",
       "      <td>1721</td>\n",
       "      <td>2303</td>\n",
       "      <td>2481</td>\n",
       "      <td>2594</td>\n",
       "      <td>3467</td>\n",
       "      <td>116</td>\n",
       "    </tr>\n",
       "    <tr>\n",
       "      <th>3.0</th>\n",
       "      <td>1</td>\n",
       "      <td>0</td>\n",
       "      <td>1</td>\n",
       "      <td>84</td>\n",
       "      <td>702</td>\n",
       "      <td>1914</td>\n",
       "      <td>2327</td>\n",
       "      <td>2834</td>\n",
       "      <td>4433</td>\n",
       "      <td>4860</td>\n",
       "      <td>6798</td>\n",
       "      <td>7621</td>\n",
       "      <td>8459</td>\n",
       "      <td>10164</td>\n",
       "      <td>259</td>\n",
       "    </tr>\n",
       "    <tr>\n",
       "      <th>3.5</th>\n",
       "      <td>2</td>\n",
       "      <td>2</td>\n",
       "      <td>1</td>\n",
       "      <td>5</td>\n",
       "      <td>1040</td>\n",
       "      <td>2992</td>\n",
       "      <td>3830</td>\n",
       "      <td>4826</td>\n",
       "      <td>7188</td>\n",
       "      <td>8297</td>\n",
       "      <td>12074</td>\n",
       "      <td>14496</td>\n",
       "      <td>16519</td>\n",
       "      <td>21743</td>\n",
       "      <td>660</td>\n",
       "    </tr>\n",
       "    <tr>\n",
       "      <th>4.0</th>\n",
       "      <td>5</td>\n",
       "      <td>6</td>\n",
       "      <td>14</td>\n",
       "      <td>227</td>\n",
       "      <td>2245</td>\n",
       "      <td>5483</td>\n",
       "      <td>7342</td>\n",
       "      <td>9571</td>\n",
       "      <td>14217</td>\n",
       "      <td>15608</td>\n",
       "      <td>24526</td>\n",
       "      <td>30470</td>\n",
       "      <td>34620</td>\n",
       "      <td>42100</td>\n",
       "      <td>1205</td>\n",
       "    </tr>\n",
       "    <tr>\n",
       "      <th>4.5</th>\n",
       "      <td>1</td>\n",
       "      <td>2</td>\n",
       "      <td>9</td>\n",
       "      <td>24</td>\n",
       "      <td>1533</td>\n",
       "      <td>3344</td>\n",
       "      <td>4311</td>\n",
       "      <td>6171</td>\n",
       "      <td>8510</td>\n",
       "      <td>9089</td>\n",
       "      <td>13745</td>\n",
       "      <td>17592</td>\n",
       "      <td>19365</td>\n",
       "      <td>22018</td>\n",
       "      <td>624</td>\n",
       "    </tr>\n",
       "    <tr>\n",
       "      <th>5.0</th>\n",
       "      <td>2</td>\n",
       "      <td>0</td>\n",
       "      <td>4</td>\n",
       "      <td>147</td>\n",
       "      <td>512</td>\n",
       "      <td>952</td>\n",
       "      <td>1375</td>\n",
       "      <td>1915</td>\n",
       "      <td>2521</td>\n",
       "      <td>2768</td>\n",
       "      <td>4061</td>\n",
       "      <td>5087</td>\n",
       "      <td>5870</td>\n",
       "      <td>4454</td>\n",
       "      <td>123</td>\n",
       "    </tr>\n",
       "  </tbody>\n",
       "</table>\n",
       "</div>"
      ],
      "text/plain": [
       "review_year     1998  1999  2000  2001  2002  2003  2004  2005   2006   2007  \\\n",
       "review_overall                                                                 \n",
       "1.0                0     0     0    13    68   114   159   205    311    287   \n",
       "1.5                0     0     0     0    88   172   205   217    383    351   \n",
       "2.0                0     0     0    28   211   497   554   663   1084   1016   \n",
       "2.5                0     0     0     0   283   777   872  1047   1638   1721   \n",
       "3.0                1     0     1    84   702  1914  2327  2834   4433   4860   \n",
       "3.5                2     2     1     5  1040  2992  3830  4826   7188   8297   \n",
       "4.0                5     6    14   227  2245  5483  7342  9571  14217  15608   \n",
       "4.5                1     2     9    24  1533  3344  4311  6171   8510   9089   \n",
       "5.0                2     0     4   147   512   952  1375  1915   2521   2768   \n",
       "\n",
       "review_year      2008   2009   2010   2011  2012  \n",
       "review_overall                                    \n",
       "1.0               379    482    577    471     5  \n",
       "1.5               465    528    619    635    19  \n",
       "2.0              1491   1615   1805   2091    53  \n",
       "2.5              2303   2481   2594   3467   116  \n",
       "3.0              6798   7621   8459  10164   259  \n",
       "3.5             12074  14496  16519  21743   660  \n",
       "4.0             24526  30470  34620  42100  1205  \n",
       "4.5             13745  17592  19365  22018   624  \n",
       "5.0              4061   5087   5870   4454   123  "
      ]
     },
     "execution_count": 46,
     "metadata": {},
     "output_type": "execute_result"
    }
   ],
   "source": [
    "#To compare two feature we can use pd.crosstab to find highest rating\n",
    "pd.crosstab(high_rating_beer['review_overall'],high_rating_beer['review_year'])"
   ]
  },
  {
   "cell_type": "code",
   "execution_count": 87,
   "metadata": {},
   "outputs": [
    {
     "data": {
      "image/png": "[encoded data removed]",
      "text/plain": [
       "<Figure size 1584x864 with 1 Axes>"
      ]
     },
     "metadata": {},
     "output_type": "display_data"
    }
   ],
   "source": [
    "# Make the crosstab more visual\n",
    "pd.crosstab(high_rating_beer['review_overall'],high_rating_beer['review_year']).plot(kind='bar',\n",
    "                                                                                    figsize=(22,12),\n",
    "                                                                                    color=[\"salmon\", \"lightblue\",\"slategrey\",\n",
    "                                                                                          \"brown\",\"lightpink\",\"violet\",\"navy\",\"olive\",\n",
    "                                                                                          \"cyan\",\"darkorange\",\"rosybrown\",\"skyblue\",\"palevioletred\",\n",
    "                                                                                          \"teal\",\"thistle\"]);\n",
    "plt.title('Review year frequency per review overall')\n",
    "plt.xlabel('Review Overall')\n",
    "plt.ylabel('Total Reviews')\n",
    "plt.xticks(rotation=0);"
   ]
  },
  {
   "cell_type": "markdown",
   "metadata": {},
   "source": [
    "`From this plot we are comparing all the years for each rating so we can say that 2011 have the highest rating with 4.0 for beers to enjoy  `"
   ]
  },
  {
   "cell_type": "markdown",
   "metadata": {},
   "source": [
    "> ### 2011 is the most highest rating year for beers enjoy"
   ]
  },
  {
   "cell_type": "markdown",
   "metadata": {},
   "source": [
    "### 3.Based on the user’s ratings which factors are important among taste, aroma, appearance, and palette?\n",
    "`let's assume the review overall score in data represents the overall quality of beers so now is that which one of these factors(aroma, taste, appearance & palette) is most important in affecting the scoring of the review overall variable`"
   ]
  },
  {
   "cell_type": "markdown",
   "metadata": {},
   "source": [
    "`we will use correlation matrix to find the most important feature here we are assuming review overall as dependent variable so will correlate with every feature with review overall to find the most important factor based on user's rating`"
   ]
  },
  {
   "cell_type": "markdown",
   "metadata": {},
   "source": [
    "### Correlation Matrix"
   ]
  },
  {
   "cell_type": "code",
   "execution_count": 49,
   "metadata": {},
   "outputs": [],
   "source": [
    "#Taking selected columns for important factor as per given in statement\n",
    "imp_taste = np.round(unique_beer_data[['review_appearance','review_palette','review_taste','review_aroma','review_overall']],1)"
   ]
  },
  {
   "cell_type": "code",
   "execution_count": 50,
   "metadata": {},
   "outputs": [
    {
     "data": {
      "text/html": [
       "<div>\n",
       "<style scoped>\n",
       "    .dataframe tbody tr th:only-of-type {\n",
       "        vertical-align: middle;\n",
       "    }\n",
       "\n",
       "    .dataframe tbody tr th {\n",
       "        vertical-align: top;\n",
       "    }\n",
       "\n",
       "    .dataframe thead th {\n",
       "        text-align: right;\n",
       "    }\n",
       "</style>\n",
       "<table border=\"1\" class=\"dataframe\">\n",
       "  <thead>\n",
       "    <tr style=\"text-align: right;\">\n",
       "      <th></th>\n",
       "      <th>review_appearance</th>\n",
       "      <th>review_palette</th>\n",
       "      <th>review_taste</th>\n",
       "      <th>review_aroma</th>\n",
       "      <th>review_overall</th>\n",
       "    </tr>\n",
       "  </thead>\n",
       "  <tbody>\n",
       "    <tr>\n",
       "      <th>review_appearance</th>\n",
       "      <td>1.000000</td>\n",
       "      <td>0.544192</td>\n",
       "      <td>0.551400</td>\n",
       "      <td>0.530562</td>\n",
       "      <td>0.482746</td>\n",
       "    </tr>\n",
       "    <tr>\n",
       "      <th>review_palette</th>\n",
       "      <td>0.544192</td>\n",
       "      <td>1.000000</td>\n",
       "      <td>0.600281</td>\n",
       "      <td>0.703077</td>\n",
       "      <td>0.598110</td>\n",
       "    </tr>\n",
       "    <tr>\n",
       "      <th>review_taste</th>\n",
       "      <td>0.551400</td>\n",
       "      <td>0.600281</td>\n",
       "      <td>1.000000</td>\n",
       "      <td>0.722433</td>\n",
       "      <td>0.689205</td>\n",
       "    </tr>\n",
       "    <tr>\n",
       "      <th>review_aroma</th>\n",
       "      <td>0.530562</td>\n",
       "      <td>0.703077</td>\n",
       "      <td>0.722433</td>\n",
       "      <td>1.000000</td>\n",
       "      <td>0.780523</td>\n",
       "    </tr>\n",
       "    <tr>\n",
       "      <th>review_overall</th>\n",
       "      <td>0.482746</td>\n",
       "      <td>0.598110</td>\n",
       "      <td>0.689205</td>\n",
       "      <td>0.780523</td>\n",
       "      <td>1.000000</td>\n",
       "    </tr>\n",
       "  </tbody>\n",
       "</table>\n",
       "</div>"
      ],
      "text/plain": [
       "                   review_appearance  review_palette  review_taste  \\\n",
       "review_appearance           1.000000        0.544192      0.551400   \n",
       "review_palette              0.544192        1.000000      0.600281   \n",
       "review_taste                0.551400        0.600281      1.000000   \n",
       "review_aroma                0.530562        0.703077      0.722433   \n",
       "review_overall              0.482746        0.598110      0.689205   \n",
       "\n",
       "                   review_aroma  review_overall  \n",
       "review_appearance      0.530562        0.482746  \n",
       "review_palette         0.703077        0.598110  \n",
       "review_taste           0.722433        0.689205  \n",
       "review_aroma           1.000000        0.780523  \n",
       "review_overall         0.780523        1.000000  "
      ]
     },
     "execution_count": 50,
     "metadata": {},
     "output_type": "execute_result"
    }
   ],
   "source": [
    "# Make a correlation matrix\n",
    "imp_taste.corr()"
   ]
  },
  {
   "cell_type": "code",
   "execution_count": 83,
   "metadata": {},
   "outputs": [
    {
     "data": {
      "image/png": "[encoded data removed]",
      "text/plain": [
       "<Figure size 432x288 with 2 Axes>"
      ]
     },
     "metadata": {},
     "output_type": "display_data"
    }
   ],
   "source": [
    "#lets make our correlation matrix a little better\n",
    "corr_matrix = imp_taste.corr()\n",
    "\n",
    "#We are find top most corrleated featuew\n",
    "k = 5\n",
    "cols = corr_matrix.nlargest(k,'review_overall')['review_overall'].index\n",
    "cm = np.corrcoef(imp_taste[cols].values.T)\n",
    "sns.set(font_scale=1.25)\n",
    "hm = sns.heatmap(cm,\n",
    "                 cbar=True,\n",
    "                 annot=True,\n",
    "                 square=True,fmt='.2f',\n",
    "                 annot_kws={'size':10},\n",
    "                 yticklabels=cols.values,xticklabels=cols.values)"
   ]
  },
  {
   "cell_type": "markdown",
   "metadata": {},
   "source": [
    "> As per correlation matrix we can conclude that most important factor include **aroma(0.78)->taste(0.69)->palette(0.60)->review appearence(0.48)** -(importance from high to low) "
   ]
  },
  {
   "cell_type": "markdown",
   "metadata": {},
   "source": [
    "### 4.If you were to recommend 3 beers to your friends based on this data which ones will you recommend?"
   ]
  },
  {
   "cell_type": "markdown",
   "metadata": {},
   "source": [
    "`To recommend beer alternatively we can use cosine similarity for better recommendation currently just using simple approach just to keep it simple`\\\n",
    "`We will perform operation based on the beer_name we group the dataset by it, next we calculate mean across the all reviews in dataset and arrange it in descending order to get an ordered format`"
   ]
  },
  {
   "cell_type": "code",
   "execution_count": 78,
   "metadata": {},
   "outputs": [
    {
     "data": {
      "text/html": [
       "<div>\n",
       "<style scoped>\n",
       "    .dataframe tbody tr th:only-of-type {\n",
       "        vertical-align: middle;\n",
       "    }\n",
       "\n",
       "    .dataframe tbody tr th {\n",
       "        vertical-align: top;\n",
       "    }\n",
       "\n",
       "    .dataframe thead th {\n",
       "        text-align: right;\n",
       "    }\n",
       "</style>\n",
       "<table border=\"1\" class=\"dataframe\">\n",
       "  <thead>\n",
       "    <tr style=\"text-align: right;\">\n",
       "      <th></th>\n",
       "      <th>beer_name</th>\n",
       "      <th>review_overall</th>\n",
       "      <th>review_appearance</th>\n",
       "      <th>review_taste</th>\n",
       "      <th>review_aroma</th>\n",
       "      <th>review_palette</th>\n",
       "      <th>beer_ABV</th>\n",
       "    </tr>\n",
       "  </thead>\n",
       "  <tbody>\n",
       "    <tr>\n",
       "      <th>4036</th>\n",
       "      <td>Edsten Triple-Wit</td>\n",
       "      <td>5.0</td>\n",
       "      <td>5.0</td>\n",
       "      <td>5.0</td>\n",
       "      <td>5.0</td>\n",
       "      <td>5.0</td>\n",
       "      <td>10.0</td>\n",
       "    </tr>\n",
       "    <tr>\n",
       "      <th>9088</th>\n",
       "      <td>Old Gander Barley Wine</td>\n",
       "      <td>5.0</td>\n",
       "      <td>5.0</td>\n",
       "      <td>5.0</td>\n",
       "      <td>5.0</td>\n",
       "      <td>5.0</td>\n",
       "      <td>9.5</td>\n",
       "    </tr>\n",
       "    <tr>\n",
       "      <th>10481</th>\n",
       "      <td>Rogue Black Brutal</td>\n",
       "      <td>5.0</td>\n",
       "      <td>5.0</td>\n",
       "      <td>5.0</td>\n",
       "      <td>5.0</td>\n",
       "      <td>5.0</td>\n",
       "      <td>9.0</td>\n",
       "    </tr>\n",
       "  </tbody>\n",
       "</table>\n",
       "</div>"
      ],
      "text/plain": [
       "                    beer_name  review_overall  review_appearance  \\\n",
       "4036        Edsten Triple-Wit             5.0                5.0   \n",
       "9088   Old Gander Barley Wine             5.0                5.0   \n",
       "10481      Rogue Black Brutal             5.0                5.0   \n",
       "\n",
       "       review_taste  review_aroma  review_palette  beer_ABV  \n",
       "4036            5.0           5.0             5.0      10.0  \n",
       "9088            5.0           5.0             5.0       9.5  \n",
       "10481           5.0           5.0             5.0       9.0  "
      ]
     },
     "execution_count": 78,
     "metadata": {},
     "output_type": "execute_result"
    }
   ],
   "source": [
    "#Here we will recommend based on high rating in every review column to recommend top three beer\n",
    "recomm_beer = unique_beer_data.groupby('beer_name').aggregate({'review_overall':np.mean,'review_appearance':np.mean,'review_taste':np.mean,'review_aroma':np.mean,'review_palette':np.mean,'beer_ABV':np.mean})\n",
    "\n",
    "recomm_beer_new = pd.DataFrame(recomm_beer.reset_index())\n",
    "\n",
    "top_recomm = recomm_beer_new.sort_values(['review_overall', 'review_appearance','review_taste','review_aroma','review_palette','beer_ABV'], ascending=[False,False, False, False, False, False])\n",
    "top_recomm[:3]\n",
    "                                                                                            "
   ]
  },
  {
   "cell_type": "markdown",
   "metadata": {},
   "source": [
    "`These are top 3 recommandations are:-`\n",
    "* Edsten Triple-Wit\t\n",
    "* Old Gander Barley Wine \n",
    "* Rogue Black Brutal "
   ]
  },
  {
   "cell_type": "markdown",
   "metadata": {},
   "source": [
    "### 5.Which Beer style seems to be the favorite based on reviews written by users? "
   ]
  },
  {
   "cell_type": "markdown",
   "metadata": {},
   "source": [
    "`Based on review written we have to identify which review text is positive review or negative review and find out which beer style favourite for that there is one nltk package called VADER(Valence Aware Dictionary for Sentimental Reasoning) is a model used for text sentimental analysis that is sensitive to both polarity(positive/negative) and intense(strenght) of emotion it can be directly applied to text data`\n",
    "* VADER sentiment analysis relies on a dictionary which maps lexical features to emotion intensities called sentiment scores\n",
    "* The sentiment score of text can be obtained by summing up the intensity of each word in the text.\n",
    "\n",
    "\n",
    "`So favourite beer can be considered which have most high positive text review in beer style said to be most favourite by user review`"
   ]
  },
  {
   "cell_type": "code",
   "execution_count": 53,
   "metadata": {},
   "outputs": [
    {
     "name": "stderr",
     "output_type": "stream",
     "text": [
      "[nltk_data] Downloading package vader_lexicon to\n",
      "[nltk_data]     C:\\Users\\Vaibh\\AppData\\Roaming\\nltk_data...\n",
      "[nltk_data]   Package vader_lexicon is already up-to-date!\n"
     ]
    },
    {
     "data": {
      "text/plain": [
       "True"
      ]
     },
     "execution_count": 53,
     "metadata": {},
     "output_type": "execute_result"
    }
   ],
   "source": [
    "#If already package availabel no need to download otherwise uncomment and execute the code\n",
    "#nltk.download('vader_lexicon')"
   ]
  },
  {
   "cell_type": "code",
   "execution_count": 54,
   "metadata": {},
   "outputs": [],
   "source": [
    "#import library \n",
    "from nltk.sentiment.vader import SentimentIntensityAnalyzer"
   ]
  },
  {
   "cell_type": "code",
   "execution_count": 55,
   "metadata": {},
   "outputs": [],
   "source": [
    "#Create instance of SentimentIntensityAnalyzer\n",
    "sid = SentimentIntensityAnalyzer()"
   ]
  },
  {
   "cell_type": "code",
   "execution_count": 56,
   "metadata": {},
   "outputs": [
    {
     "name": "stdout",
     "output_type": "stream",
     "text": [
      "Time took to load the data : 622.1984723 seconds\n"
     ]
    }
   ],
   "source": [
    "#Apply in review text column where it will return distribution of neg,pos and neutral how much proportion it contain of polarity\n",
    "start = time.clock()\n",
    "unique_beer_data['Scores'] = unique_beer_data['review_text'].apply(lambda review_text:sid.polarity_scores(review_text))\n",
    "print('Time took to load the data :',time.clock() - start_time, \"seconds\")"
   ]
  },
  {
   "cell_type": "code",
   "execution_count": 74,
   "metadata": {},
   "outputs": [
    {
     "data": {
      "text/plain": [
       "{'neg': 0.062, 'neu': 0.861, 'pos': 0.077, 'compound': 0.1879}"
      ]
     },
     "execution_count": 74,
     "metadata": {},
     "output_type": "execute_result"
    }
   ],
   "source": [
    "#Here it showing sentiment analysis of text review \n",
    "unique_beer_data['Scores'][0]"
   ]
  },
  {
   "cell_type": "markdown",
   "metadata": {},
   "source": [
    "`As you can see negative emotions of review contains 0.06 for positive emotions 0.077 and neutral has 0.861 which contains more tha positive and negative here we can see compound which means it is combination of all three emotions(pos,neg and neutral) of text`"
   ]
  },
  {
   "cell_type": "code",
   "execution_count": 76,
   "metadata": {},
   "outputs": [
    {
     "name": "stdout",
     "output_type": "stream",
     "text": [
      "Time took to load the data : 1827.0623481 seconds\n"
     ]
    }
   ],
   "source": [
    "#We will extract compound value because it contains the average of all three emotions where we can anlayze the sentiments of text\n",
    "start = time.clock()\n",
    "unique_beer_data['compound'] = unique_beer_data['Scores'].apply(lambda d:d['compound'])\n",
    "print('Time took to load the data :',time.clock() - start_time, \"seconds\")"
   ]
  },
  {
   "cell_type": "code",
   "execution_count": 58,
   "metadata": {},
   "outputs": [
    {
     "data": {
      "text/html": [
       "<div>\n",
       "<style scoped>\n",
       "    .dataframe tbody tr th:only-of-type {\n",
       "        vertical-align: middle;\n",
       "    }\n",
       "\n",
       "    .dataframe tbody tr th {\n",
       "        vertical-align: top;\n",
       "    }\n",
       "\n",
       "    .dataframe thead th {\n",
       "        text-align: right;\n",
       "    }\n",
       "</style>\n",
       "<table border=\"1\" class=\"dataframe\">\n",
       "  <thead>\n",
       "    <tr style=\"text-align: right;\">\n",
       "      <th></th>\n",
       "      <th>beer_ABV</th>\n",
       "      <th>beer_beerId</th>\n",
       "      <th>beer_brewerId</th>\n",
       "      <th>beer_name</th>\n",
       "      <th>beer_style</th>\n",
       "      <th>review_appearance</th>\n",
       "      <th>review_palette</th>\n",
       "      <th>review_overall</th>\n",
       "      <th>review_taste</th>\n",
       "      <th>review_profileName</th>\n",
       "      <th>review_aroma</th>\n",
       "      <th>review_text</th>\n",
       "      <th>review_time</th>\n",
       "      <th>review_year</th>\n",
       "      <th>Scores</th>\n",
       "      <th>compound</th>\n",
       "    </tr>\n",
       "  </thead>\n",
       "  <tbody>\n",
       "    <tr>\n",
       "      <th>0</th>\n",
       "      <td>5.0</td>\n",
       "      <td>47986</td>\n",
       "      <td>10325</td>\n",
       "      <td>Sausa Weizen</td>\n",
       "      <td>Hefeweizen</td>\n",
       "      <td>2.5</td>\n",
       "      <td>2.0</td>\n",
       "      <td>1.5</td>\n",
       "      <td>1.5</td>\n",
       "      <td>stcules</td>\n",
       "      <td>1.5</td>\n",
       "      <td>a lot of foam but a lot in the smell some bana...</td>\n",
       "      <td>2009-02-16 20:57:03</td>\n",
       "      <td>2009</td>\n",
       "      <td>{'neg': 0.062, 'neu': 0.861, 'pos': 0.077, 'co...</td>\n",
       "      <td>0.1879</td>\n",
       "    </tr>\n",
       "    <tr>\n",
       "      <th>1</th>\n",
       "      <td>6.2</td>\n",
       "      <td>48213</td>\n",
       "      <td>10325</td>\n",
       "      <td>Red Moon</td>\n",
       "      <td>English Strong Ale</td>\n",
       "      <td>3.0</td>\n",
       "      <td>2.5</td>\n",
       "      <td>3.0</td>\n",
       "      <td>3.0</td>\n",
       "      <td>stcules</td>\n",
       "      <td>3.0</td>\n",
       "      <td>dark red color light beige foam average in the...</td>\n",
       "      <td>2009-03-01 13:44:57</td>\n",
       "      <td>2009</td>\n",
       "      <td>{'neg': 0.03, 'neu': 0.879, 'pos': 0.091, 'com...</td>\n",
       "      <td>0.5927</td>\n",
       "    </tr>\n",
       "    <tr>\n",
       "      <th>2</th>\n",
       "      <td>6.5</td>\n",
       "      <td>48215</td>\n",
       "      <td>10325</td>\n",
       "      <td>Black Horse Black Beer</td>\n",
       "      <td>Foreign / Export Stout</td>\n",
       "      <td>3.0</td>\n",
       "      <td>2.5</td>\n",
       "      <td>3.0</td>\n",
       "      <td>3.0</td>\n",
       "      <td>stcules</td>\n",
       "      <td>3.0</td>\n",
       "      <td>almost totally black beige foam quite compact ...</td>\n",
       "      <td>2009-03-01 14:10:04</td>\n",
       "      <td>2009</td>\n",
       "      <td>{'neg': 0.118, 'neu': 0.749, 'pos': 0.133, 'co...</td>\n",
       "      <td>0.3021</td>\n",
       "    </tr>\n",
       "    <tr>\n",
       "      <th>3</th>\n",
       "      <td>5.0</td>\n",
       "      <td>47969</td>\n",
       "      <td>10325</td>\n",
       "      <td>Sausa Pils</td>\n",
       "      <td>German Pilsener</td>\n",
       "      <td>3.5</td>\n",
       "      <td>3.0</td>\n",
       "      <td>3.0</td>\n",
       "      <td>2.5</td>\n",
       "      <td>stcules</td>\n",
       "      <td>3.0</td>\n",
       "      <td>golden yellow color white compact foam quite c...</td>\n",
       "      <td>2009-02-15 19:12:25</td>\n",
       "      <td>2009</td>\n",
       "      <td>{'neg': 0.0, 'neu': 0.67, 'pos': 0.33, 'compou...</td>\n",
       "      <td>0.9779</td>\n",
       "    </tr>\n",
       "    <tr>\n",
       "      <th>4</th>\n",
       "      <td>7.7</td>\n",
       "      <td>64883</td>\n",
       "      <td>1075</td>\n",
       "      <td>Cauldron DIPA</td>\n",
       "      <td>American Double / Imperial IPA</td>\n",
       "      <td>4.0</td>\n",
       "      <td>4.5</td>\n",
       "      <td>4.0</td>\n",
       "      <td>4.0</td>\n",
       "      <td>johnmichaelsen</td>\n",
       "      <td>4.5</td>\n",
       "      <td>according to the website the style for the cal...</td>\n",
       "      <td>2010-12-30 18:53:26</td>\n",
       "      <td>2010</td>\n",
       "      <td>{'neg': 0.046, 'neu': 0.835, 'pos': 0.118, 'co...</td>\n",
       "      <td>0.9382</td>\n",
       "    </tr>\n",
       "  </tbody>\n",
       "</table>\n",
       "</div>"
      ],
      "text/plain": [
       "   beer_ABV  beer_beerId  beer_brewerId               beer_name  \\\n",
       "0       5.0        47986          10325            Sausa Weizen   \n",
       "1       6.2        48213          10325                Red Moon   \n",
       "2       6.5        48215          10325  Black Horse Black Beer   \n",
       "3       5.0        47969          10325              Sausa Pils   \n",
       "4       7.7        64883           1075           Cauldron DIPA   \n",
       "\n",
       "                       beer_style  review_appearance  review_palette  \\\n",
       "0                      Hefeweizen                2.5             2.0   \n",
       "1              English Strong Ale                3.0             2.5   \n",
       "2          Foreign / Export Stout                3.0             2.5   \n",
       "3                 German Pilsener                3.5             3.0   \n",
       "4  American Double / Imperial IPA                4.0             4.5   \n",
       "\n",
       "   review_overall  review_taste review_profileName  review_aroma  \\\n",
       "0             1.5           1.5            stcules           1.5   \n",
       "1             3.0           3.0            stcules           3.0   \n",
       "2             3.0           3.0            stcules           3.0   \n",
       "3             3.0           2.5            stcules           3.0   \n",
       "4             4.0           4.0     johnmichaelsen           4.5   \n",
       "\n",
       "                                         review_text         review_time  \\\n",
       "0  a lot of foam but a lot in the smell some bana... 2009-02-16 20:57:03   \n",
       "1  dark red color light beige foam average in the... 2009-03-01 13:44:57   \n",
       "2  almost totally black beige foam quite compact ... 2009-03-01 14:10:04   \n",
       "3  golden yellow color white compact foam quite c... 2009-02-15 19:12:25   \n",
       "4  according to the website the style for the cal... 2010-12-30 18:53:26   \n",
       "\n",
       "   review_year                                             Scores  compound  \n",
       "0         2009  {'neg': 0.062, 'neu': 0.861, 'pos': 0.077, 'co...    0.1879  \n",
       "1         2009  {'neg': 0.03, 'neu': 0.879, 'pos': 0.091, 'com...    0.5927  \n",
       "2         2009  {'neg': 0.118, 'neu': 0.749, 'pos': 0.133, 'co...    0.3021  \n",
       "3         2009  {'neg': 0.0, 'neu': 0.67, 'pos': 0.33, 'compou...    0.9779  \n",
       "4         2010  {'neg': 0.046, 'neu': 0.835, 'pos': 0.118, 'co...    0.9382  "
      ]
     },
     "execution_count": 58,
     "metadata": {},
     "output_type": "execute_result"
    }
   ],
   "source": [
    "unique_beer_data.head()"
   ]
  },
  {
   "cell_type": "code",
   "execution_count": 59,
   "metadata": {},
   "outputs": [
    {
     "name": "stdout",
     "output_type": "stream",
     "text": [
      "Time took to load the data : 622.4529514000001 seconds\n"
     ]
    }
   ],
   "source": [
    "#we will create a another column where we defined threshold value and give output in positve,negative and neutral\n",
    "start = time.clock()\n",
    "unique_beer_data['text_review_score'] = unique_beer_data['compound'].apply(lambda score: 'neutral' if (score >=0 and score <=0.6) else ('pos' if score > 0.6 else 'neg'))\n",
    "print('Time took to load the data :',time.clock() - start_time, \"seconds\")"
   ]
  },
  {
   "cell_type": "markdown",
   "metadata": {},
   "source": [
    "`Here we denfined threshold for neutral is 0 to 0.6 for postive greater than 0.6 and less then zero is negative `\\\n",
    "**Note**:-These values are compound scores i.e average of all emotions pos,neg and neutral"
   ]
  },
  {
   "cell_type": "code",
   "execution_count": 60,
   "metadata": {},
   "outputs": [
    {
     "data": {
      "text/html": [
       "<div>\n",
       "<style scoped>\n",
       "    .dataframe tbody tr th:only-of-type {\n",
       "        vertical-align: middle;\n",
       "    }\n",
       "\n",
       "    .dataframe tbody tr th {\n",
       "        vertical-align: top;\n",
       "    }\n",
       "\n",
       "    .dataframe thead th {\n",
       "        text-align: right;\n",
       "    }\n",
       "</style>\n",
       "<table border=\"1\" class=\"dataframe\">\n",
       "  <thead>\n",
       "    <tr style=\"text-align: right;\">\n",
       "      <th></th>\n",
       "      <th>beer_ABV</th>\n",
       "      <th>beer_beerId</th>\n",
       "      <th>beer_brewerId</th>\n",
       "      <th>beer_name</th>\n",
       "      <th>beer_style</th>\n",
       "      <th>review_appearance</th>\n",
       "      <th>review_palette</th>\n",
       "      <th>review_overall</th>\n",
       "      <th>review_taste</th>\n",
       "      <th>review_profileName</th>\n",
       "      <th>review_aroma</th>\n",
       "      <th>review_text</th>\n",
       "      <th>review_time</th>\n",
       "      <th>review_year</th>\n",
       "      <th>Scores</th>\n",
       "      <th>compound</th>\n",
       "      <th>text_review_score</th>\n",
       "    </tr>\n",
       "  </thead>\n",
       "  <tbody>\n",
       "    <tr>\n",
       "      <th>0</th>\n",
       "      <td>5.0</td>\n",
       "      <td>47986</td>\n",
       "      <td>10325</td>\n",
       "      <td>Sausa Weizen</td>\n",
       "      <td>Hefeweizen</td>\n",
       "      <td>2.5</td>\n",
       "      <td>2.0</td>\n",
       "      <td>1.5</td>\n",
       "      <td>1.5</td>\n",
       "      <td>stcules</td>\n",
       "      <td>1.5</td>\n",
       "      <td>a lot of foam but a lot in the smell some bana...</td>\n",
       "      <td>2009-02-16 20:57:03</td>\n",
       "      <td>2009</td>\n",
       "      <td>{'neg': 0.062, 'neu': 0.861, 'pos': 0.077, 'co...</td>\n",
       "      <td>0.1879</td>\n",
       "      <td>neutral</td>\n",
       "    </tr>\n",
       "    <tr>\n",
       "      <th>1</th>\n",
       "      <td>6.2</td>\n",
       "      <td>48213</td>\n",
       "      <td>10325</td>\n",
       "      <td>Red Moon</td>\n",
       "      <td>English Strong Ale</td>\n",
       "      <td>3.0</td>\n",
       "      <td>2.5</td>\n",
       "      <td>3.0</td>\n",
       "      <td>3.0</td>\n",
       "      <td>stcules</td>\n",
       "      <td>3.0</td>\n",
       "      <td>dark red color light beige foam average in the...</td>\n",
       "      <td>2009-03-01 13:44:57</td>\n",
       "      <td>2009</td>\n",
       "      <td>{'neg': 0.03, 'neu': 0.879, 'pos': 0.091, 'com...</td>\n",
       "      <td>0.5927</td>\n",
       "      <td>neutral</td>\n",
       "    </tr>\n",
       "    <tr>\n",
       "      <th>2</th>\n",
       "      <td>6.5</td>\n",
       "      <td>48215</td>\n",
       "      <td>10325</td>\n",
       "      <td>Black Horse Black Beer</td>\n",
       "      <td>Foreign / Export Stout</td>\n",
       "      <td>3.0</td>\n",
       "      <td>2.5</td>\n",
       "      <td>3.0</td>\n",
       "      <td>3.0</td>\n",
       "      <td>stcules</td>\n",
       "      <td>3.0</td>\n",
       "      <td>almost totally black beige foam quite compact ...</td>\n",
       "      <td>2009-03-01 14:10:04</td>\n",
       "      <td>2009</td>\n",
       "      <td>{'neg': 0.118, 'neu': 0.749, 'pos': 0.133, 'co...</td>\n",
       "      <td>0.3021</td>\n",
       "      <td>neutral</td>\n",
       "    </tr>\n",
       "    <tr>\n",
       "      <th>3</th>\n",
       "      <td>5.0</td>\n",
       "      <td>47969</td>\n",
       "      <td>10325</td>\n",
       "      <td>Sausa Pils</td>\n",
       "      <td>German Pilsener</td>\n",
       "      <td>3.5</td>\n",
       "      <td>3.0</td>\n",
       "      <td>3.0</td>\n",
       "      <td>2.5</td>\n",
       "      <td>stcules</td>\n",
       "      <td>3.0</td>\n",
       "      <td>golden yellow color white compact foam quite c...</td>\n",
       "      <td>2009-02-15 19:12:25</td>\n",
       "      <td>2009</td>\n",
       "      <td>{'neg': 0.0, 'neu': 0.67, 'pos': 0.33, 'compou...</td>\n",
       "      <td>0.9779</td>\n",
       "      <td>pos</td>\n",
       "    </tr>\n",
       "    <tr>\n",
       "      <th>4</th>\n",
       "      <td>7.7</td>\n",
       "      <td>64883</td>\n",
       "      <td>1075</td>\n",
       "      <td>Cauldron DIPA</td>\n",
       "      <td>American Double / Imperial IPA</td>\n",
       "      <td>4.0</td>\n",
       "      <td>4.5</td>\n",
       "      <td>4.0</td>\n",
       "      <td>4.0</td>\n",
       "      <td>johnmichaelsen</td>\n",
       "      <td>4.5</td>\n",
       "      <td>according to the website the style for the cal...</td>\n",
       "      <td>2010-12-30 18:53:26</td>\n",
       "      <td>2010</td>\n",
       "      <td>{'neg': 0.046, 'neu': 0.835, 'pos': 0.118, 'co...</td>\n",
       "      <td>0.9382</td>\n",
       "      <td>pos</td>\n",
       "    </tr>\n",
       "  </tbody>\n",
       "</table>\n",
       "</div>"
      ],
      "text/plain": [
       "   beer_ABV  beer_beerId  beer_brewerId               beer_name  \\\n",
       "0       5.0        47986          10325            Sausa Weizen   \n",
       "1       6.2        48213          10325                Red Moon   \n",
       "2       6.5        48215          10325  Black Horse Black Beer   \n",
       "3       5.0        47969          10325              Sausa Pils   \n",
       "4       7.7        64883           1075           Cauldron DIPA   \n",
       "\n",
       "                       beer_style  review_appearance  review_palette  \\\n",
       "0                      Hefeweizen                2.5             2.0   \n",
       "1              English Strong Ale                3.0             2.5   \n",
       "2          Foreign / Export Stout                3.0             2.5   \n",
       "3                 German Pilsener                3.5             3.0   \n",
       "4  American Double / Imperial IPA                4.0             4.5   \n",
       "\n",
       "   review_overall  review_taste review_profileName  review_aroma  \\\n",
       "0             1.5           1.5            stcules           1.5   \n",
       "1             3.0           3.0            stcules           3.0   \n",
       "2             3.0           3.0            stcules           3.0   \n",
       "3             3.0           2.5            stcules           3.0   \n",
       "4             4.0           4.0     johnmichaelsen           4.5   \n",
       "\n",
       "                                         review_text         review_time  \\\n",
       "0  a lot of foam but a lot in the smell some bana... 2009-02-16 20:57:03   \n",
       "1  dark red color light beige foam average in the... 2009-03-01 13:44:57   \n",
       "2  almost totally black beige foam quite compact ... 2009-03-01 14:10:04   \n",
       "3  golden yellow color white compact foam quite c... 2009-02-15 19:12:25   \n",
       "4  according to the website the style for the cal... 2010-12-30 18:53:26   \n",
       "\n",
       "   review_year                                             Scores  compound  \\\n",
       "0         2009  {'neg': 0.062, 'neu': 0.861, 'pos': 0.077, 'co...    0.1879   \n",
       "1         2009  {'neg': 0.03, 'neu': 0.879, 'pos': 0.091, 'com...    0.5927   \n",
       "2         2009  {'neg': 0.118, 'neu': 0.749, 'pos': 0.133, 'co...    0.3021   \n",
       "3         2009  {'neg': 0.0, 'neu': 0.67, 'pos': 0.33, 'compou...    0.9779   \n",
       "4         2010  {'neg': 0.046, 'neu': 0.835, 'pos': 0.118, 'co...    0.9382   \n",
       "\n",
       "  text_review_score  \n",
       "0           neutral  \n",
       "1           neutral  \n",
       "2           neutral  \n",
       "3               pos  \n",
       "4               pos  "
      ]
     },
     "execution_count": 60,
     "metadata": {},
     "output_type": "execute_result"
    }
   ],
   "source": [
    "unique_beer_data.head()"
   ]
  },
  {
   "cell_type": "code",
   "execution_count": 77,
   "metadata": {},
   "outputs": [
    {
     "data": {
      "text/plain": [
       "pos        425868\n",
       "neutral     45707\n",
       "neg         31485\n",
       "Name: text_review_score, dtype: int64"
      ]
     },
     "execution_count": 77,
     "metadata": {},
     "output_type": "execute_result"
    }
   ],
   "source": [
    "#look for how much value is distributed in pos,neg and neutral\n",
    "unique_beer_data['text_review_score'].value_counts()"
   ]
  },
  {
   "cell_type": "code",
   "execution_count": 62,
   "metadata": {},
   "outputs": [
    {
     "data": {
      "image/png": "[encoded data removed]",
      "text/plain": [
       "<Figure size 576x432 with 1 Axes>"
      ]
     },
     "metadata": {},
     "output_type": "display_data"
    }
   ],
   "source": [
    "#visualize the distribution sentiment emotions\n",
    "count_plot(df=unique_beer_data,feature='text_review_score',title='Percentage% of Emotions contains')"
   ]
  },
  {
   "cell_type": "markdown",
   "metadata": {},
   "source": [
    "`After looking plot we can say that it contains highly positive review with 84% of positive text and neutral with 9.09% followed by negative review 6.26%`"
   ]
  },
  {
   "cell_type": "code",
   "execution_count": 63,
   "metadata": {},
   "outputs": [],
   "source": [
    "#As we got the sentiment emotions of text review we will start analyse favourite beer style \n",
    "favourite_beer = unique_beer_data[['beer_style','text_review_score']]"
   ]
  },
  {
   "cell_type": "code",
   "execution_count": 64,
   "metadata": {},
   "outputs": [
    {
     "data": {
      "text/html": [
       "<div>\n",
       "<style scoped>\n",
       "    .dataframe tbody tr th:only-of-type {\n",
       "        vertical-align: middle;\n",
       "    }\n",
       "\n",
       "    .dataframe tbody tr th {\n",
       "        vertical-align: top;\n",
       "    }\n",
       "\n",
       "    .dataframe thead th {\n",
       "        text-align: right;\n",
       "    }\n",
       "</style>\n",
       "<table border=\"1\" class=\"dataframe\">\n",
       "  <thead>\n",
       "    <tr style=\"text-align: right;\">\n",
       "      <th></th>\n",
       "      <th>beer_style</th>\n",
       "      <th>text_review_score</th>\n",
       "    </tr>\n",
       "  </thead>\n",
       "  <tbody>\n",
       "    <tr>\n",
       "      <th>0</th>\n",
       "      <td>Hefeweizen</td>\n",
       "      <td>neutral</td>\n",
       "    </tr>\n",
       "    <tr>\n",
       "      <th>1</th>\n",
       "      <td>English Strong Ale</td>\n",
       "      <td>neutral</td>\n",
       "    </tr>\n",
       "    <tr>\n",
       "      <th>2</th>\n",
       "      <td>Foreign / Export Stout</td>\n",
       "      <td>neutral</td>\n",
       "    </tr>\n",
       "    <tr>\n",
       "      <th>3</th>\n",
       "      <td>German Pilsener</td>\n",
       "      <td>pos</td>\n",
       "    </tr>\n",
       "    <tr>\n",
       "      <th>4</th>\n",
       "      <td>American Double / Imperial IPA</td>\n",
       "      <td>pos</td>\n",
       "    </tr>\n",
       "    <tr>\n",
       "      <th>...</th>\n",
       "      <td>...</td>\n",
       "      <td>...</td>\n",
       "    </tr>\n",
       "    <tr>\n",
       "      <th>528792</th>\n",
       "      <td>German Pilsener</td>\n",
       "      <td>pos</td>\n",
       "    </tr>\n",
       "    <tr>\n",
       "      <th>528793</th>\n",
       "      <td>German Pilsener</td>\n",
       "      <td>pos</td>\n",
       "    </tr>\n",
       "    <tr>\n",
       "      <th>528794</th>\n",
       "      <td>German Pilsener</td>\n",
       "      <td>pos</td>\n",
       "    </tr>\n",
       "    <tr>\n",
       "      <th>528795</th>\n",
       "      <td>German Pilsener</td>\n",
       "      <td>pos</td>\n",
       "    </tr>\n",
       "    <tr>\n",
       "      <th>528796</th>\n",
       "      <td>German Pilsener</td>\n",
       "      <td>neg</td>\n",
       "    </tr>\n",
       "  </tbody>\n",
       "</table>\n",
       "<p>503060 rows × 2 columns</p>\n",
       "</div>"
      ],
      "text/plain": [
       "                            beer_style text_review_score\n",
       "0                           Hefeweizen           neutral\n",
       "1                   English Strong Ale           neutral\n",
       "2               Foreign / Export Stout           neutral\n",
       "3                      German Pilsener               pos\n",
       "4       American Double / Imperial IPA               pos\n",
       "...                                ...               ...\n",
       "528792                 German Pilsener               pos\n",
       "528793                 German Pilsener               pos\n",
       "528794                 German Pilsener               pos\n",
       "528795                 German Pilsener               pos\n",
       "528796                 German Pilsener               neg\n",
       "\n",
       "[503060 rows x 2 columns]"
      ]
     },
     "execution_count": 64,
     "metadata": {},
     "output_type": "execute_result"
    }
   ],
   "source": [
    "favourite_beer"
   ]
  },
  {
   "cell_type": "markdown",
   "metadata": {},
   "source": [
    "#### **Note**:- Here text_review_score column is same as a text review which converted to sentiment emotions such pos,neg and neutral"
   ]
  },
  {
   "cell_type": "code",
   "execution_count": 65,
   "metadata": {},
   "outputs": [
    {
     "data": {
      "text/html": [
       "<div>\n",
       "<style scoped>\n",
       "    .dataframe tbody tr th:only-of-type {\n",
       "        vertical-align: middle;\n",
       "    }\n",
       "\n",
       "    .dataframe tbody tr th {\n",
       "        vertical-align: top;\n",
       "    }\n",
       "\n",
       "    .dataframe thead th {\n",
       "        text-align: right;\n",
       "    }\n",
       "</style>\n",
       "<table border=\"1\" class=\"dataframe\">\n",
       "  <thead>\n",
       "    <tr style=\"text-align: right;\">\n",
       "      <th></th>\n",
       "      <th>beer_style</th>\n",
       "      <th>text_review_score</th>\n",
       "    </tr>\n",
       "  </thead>\n",
       "  <tbody>\n",
       "    <tr>\n",
       "      <th>3</th>\n",
       "      <td>German Pilsener</td>\n",
       "      <td>pos</td>\n",
       "    </tr>\n",
       "    <tr>\n",
       "      <th>4</th>\n",
       "      <td>American Double / Imperial IPA</td>\n",
       "      <td>pos</td>\n",
       "    </tr>\n",
       "    <tr>\n",
       "      <th>5</th>\n",
       "      <td>Herbed / Spiced Beer</td>\n",
       "      <td>pos</td>\n",
       "    </tr>\n",
       "    <tr>\n",
       "      <th>6</th>\n",
       "      <td>Herbed / Spiced Beer</td>\n",
       "      <td>pos</td>\n",
       "    </tr>\n",
       "    <tr>\n",
       "      <th>7</th>\n",
       "      <td>Herbed / Spiced Beer</td>\n",
       "      <td>pos</td>\n",
       "    </tr>\n",
       "    <tr>\n",
       "      <th>...</th>\n",
       "      <td>...</td>\n",
       "      <td>...</td>\n",
       "    </tr>\n",
       "    <tr>\n",
       "      <th>528791</th>\n",
       "      <td>German Pilsener</td>\n",
       "      <td>pos</td>\n",
       "    </tr>\n",
       "    <tr>\n",
       "      <th>528792</th>\n",
       "      <td>German Pilsener</td>\n",
       "      <td>pos</td>\n",
       "    </tr>\n",
       "    <tr>\n",
       "      <th>528793</th>\n",
       "      <td>German Pilsener</td>\n",
       "      <td>pos</td>\n",
       "    </tr>\n",
       "    <tr>\n",
       "      <th>528794</th>\n",
       "      <td>German Pilsener</td>\n",
       "      <td>pos</td>\n",
       "    </tr>\n",
       "    <tr>\n",
       "      <th>528795</th>\n",
       "      <td>German Pilsener</td>\n",
       "      <td>pos</td>\n",
       "    </tr>\n",
       "  </tbody>\n",
       "</table>\n",
       "<p>425868 rows × 2 columns</p>\n",
       "</div>"
      ],
      "text/plain": [
       "                            beer_style text_review_score\n",
       "3                      German Pilsener               pos\n",
       "4       American Double / Imperial IPA               pos\n",
       "5                 Herbed / Spiced Beer               pos\n",
       "6                 Herbed / Spiced Beer               pos\n",
       "7                 Herbed / Spiced Beer               pos\n",
       "...                                ...               ...\n",
       "528791                 German Pilsener               pos\n",
       "528792                 German Pilsener               pos\n",
       "528793                 German Pilsener               pos\n",
       "528794                 German Pilsener               pos\n",
       "528795                 German Pilsener               pos\n",
       "\n",
       "[425868 rows x 2 columns]"
      ]
     },
     "execution_count": 65,
     "metadata": {},
     "output_type": "execute_result"
    }
   ],
   "source": [
    "#filtering the only positive column as we want high positive reviews on beer style\n",
    "fav_beer = favourite_beer[favourite_beer['text_review_score']=='pos']\n",
    "fav_beer"
   ]
  },
  {
   "cell_type": "code",
   "execution_count": 66,
   "metadata": {},
   "outputs": [
    {
     "data": {
      "text/plain": [
       "beer_style\n",
       "American IPA                        35245\n",
       "American Double / Imperial IPA      21987\n",
       "American Double / Imperial Stout    20734\n",
       "American Pale Ale (APA)             15390\n",
       "Russian Imperial Stout              14872\n",
       "Name: text_review_score, dtype: int64"
      ]
     },
     "execution_count": 66,
     "metadata": {},
     "output_type": "execute_result"
    }
   ],
   "source": [
    "#Here we got the result with the most poisitve review \n",
    "fav_beer.groupby('beer_style')['text_review_score'].count().sort_values(ascending=False).head()"
   ]
  },
  {
   "cell_type": "markdown",
   "metadata": {},
   "source": [
    "`These are the favourites beer_style as per review text:`\n",
    "* **American IPA**\n",
    "* **American Double / Imperial IPA**\n",
    "* **American Double / Imperial Stout**\n",
    "* **American Pale Ale (APA)**\n",
    "* **Russian Imperial Stout** "
   ]
  },
  {
   "cell_type": "markdown",
   "metadata": {},
   "source": [
    "### 6.How does written review compare to overall review score for the beer styles?"
   ]
  },
  {
   "cell_type": "markdown",
   "metadata": {},
   "source": [
    "`Here we compare the overall review with text based review which is defined as text_review_score`"
   ]
  },
  {
   "cell_type": "code",
   "execution_count": 67,
   "metadata": {},
   "outputs": [],
   "source": [
    "#remove duplicate value if exist\n",
    "beer_compare = unique_beer_data.drop_duplicates(subset=['beer_style','review_overall','text_review_score'],keep='first')"
   ]
  },
  {
   "cell_type": "code",
   "execution_count": 68,
   "metadata": {},
   "outputs": [
    {
     "data": {
      "text/plain": [
       "0"
      ]
     },
     "execution_count": 68,
     "metadata": {},
     "output_type": "execute_result"
    }
   ],
   "source": [
    "#checking duplication\n",
    "sum(beer_compare.duplicated(['beer_style','review_overall','text_review_score']))"
   ]
  },
  {
   "cell_type": "markdown",
   "metadata": {},
   "source": [
    "`We can see that there are no duplication after removing duplicate from feature`"
   ]
  },
  {
   "cell_type": "code",
   "execution_count": 69,
   "metadata": {},
   "outputs": [
    {
     "data": {
      "text/html": [
       "<div>\n",
       "<style scoped>\n",
       "    .dataframe tbody tr th:only-of-type {\n",
       "        vertical-align: middle;\n",
       "    }\n",
       "\n",
       "    .dataframe tbody tr th {\n",
       "        vertical-align: top;\n",
       "    }\n",
       "\n",
       "    .dataframe thead th {\n",
       "        text-align: right;\n",
       "    }\n",
       "</style>\n",
       "<table border=\"1\" class=\"dataframe\">\n",
       "  <thead>\n",
       "    <tr style=\"text-align: right;\">\n",
       "      <th></th>\n",
       "      <th>beer_style</th>\n",
       "      <th>review_overall</th>\n",
       "      <th>text_review_score</th>\n",
       "    </tr>\n",
       "  </thead>\n",
       "  <tbody>\n",
       "    <tr>\n",
       "      <th>0</th>\n",
       "      <td>Hefeweizen</td>\n",
       "      <td>1.5</td>\n",
       "      <td>neutral</td>\n",
       "    </tr>\n",
       "    <tr>\n",
       "      <th>1</th>\n",
       "      <td>English Strong Ale</td>\n",
       "      <td>3.0</td>\n",
       "      <td>neutral</td>\n",
       "    </tr>\n",
       "    <tr>\n",
       "      <th>2</th>\n",
       "      <td>Foreign / Export Stout</td>\n",
       "      <td>3.0</td>\n",
       "      <td>neutral</td>\n",
       "    </tr>\n",
       "    <tr>\n",
       "      <th>3</th>\n",
       "      <td>German Pilsener</td>\n",
       "      <td>3.0</td>\n",
       "      <td>pos</td>\n",
       "    </tr>\n",
       "    <tr>\n",
       "      <th>4</th>\n",
       "      <td>American Double / Imperial IPA</td>\n",
       "      <td>4.0</td>\n",
       "      <td>pos</td>\n",
       "    </tr>\n",
       "    <tr>\n",
       "      <th>...</th>\n",
       "      <td>...</td>\n",
       "      <td>...</td>\n",
       "      <td>...</td>\n",
       "    </tr>\n",
       "    <tr>\n",
       "      <th>507816</th>\n",
       "      <td>American Stout</td>\n",
       "      <td>5.0</td>\n",
       "      <td>neg</td>\n",
       "    </tr>\n",
       "    <tr>\n",
       "      <th>510003</th>\n",
       "      <td>Gose</td>\n",
       "      <td>1.0</td>\n",
       "      <td>neg</td>\n",
       "    </tr>\n",
       "    <tr>\n",
       "      <th>512809</th>\n",
       "      <td>Flanders Red Ale</td>\n",
       "      <td>1.5</td>\n",
       "      <td>neg</td>\n",
       "    </tr>\n",
       "    <tr>\n",
       "      <th>514313</th>\n",
       "      <td>Winter Warmer</td>\n",
       "      <td>5.0</td>\n",
       "      <td>neg</td>\n",
       "    </tr>\n",
       "    <tr>\n",
       "      <th>526449</th>\n",
       "      <td>Flanders Oud Bruin</td>\n",
       "      <td>5.0</td>\n",
       "      <td>neg</td>\n",
       "    </tr>\n",
       "  </tbody>\n",
       "</table>\n",
       "<p>2590 rows × 3 columns</p>\n",
       "</div>"
      ],
      "text/plain": [
       "                            beer_style  review_overall text_review_score\n",
       "0                           Hefeweizen             1.5           neutral\n",
       "1                   English Strong Ale             3.0           neutral\n",
       "2               Foreign / Export Stout             3.0           neutral\n",
       "3                      German Pilsener             3.0               pos\n",
       "4       American Double / Imperial IPA             4.0               pos\n",
       "...                                ...             ...               ...\n",
       "507816                  American Stout             5.0               neg\n",
       "510003                            Gose             1.0               neg\n",
       "512809                Flanders Red Ale             1.5               neg\n",
       "514313                   Winter Warmer             5.0               neg\n",
       "526449              Flanders Oud Bruin             5.0               neg\n",
       "\n",
       "[2590 rows x 3 columns]"
      ]
     },
     "execution_count": 69,
     "metadata": {},
     "output_type": "execute_result"
    }
   ],
   "source": [
    "#As question defined we have to compare overall review with text based review as per beer style \n",
    "#so we only took selected features based on questions\n",
    "beer_compare[['beer_style','review_overall','text_review_score']]"
   ]
  },
  {
   "cell_type": "code",
   "execution_count": 70,
   "metadata": {},
   "outputs": [],
   "source": [
    "def plot_relative_distribution(df,feature,hue,title='',size=2):\n",
    "    '''\n",
    "    Parameters\n",
    "    ----------\n",
    "    df : DataFrame of dataset\n",
    "    feature : feature of dataframe\n",
    "    hue : lists of strings\n",
    "    title : description of plot\n",
    "    '''\n",
    "    f,ax = plt.subplots(1,1,figsize=(11*size,6*size))\n",
    "    total  = float(len(df))\n",
    "    sns.countplot(x=feature,hue=hue,data=df,palette='Set2')\n",
    "    plt.title(title)\n",
    "    for p in ax.patches:\n",
    "        height = p.get_height()\n",
    "        ax.text(p.get_x()+p.get_width()/2.,\n",
    "               height+3,\n",
    "               '{:1.2f}%'.format(100*height/total),\n",
    "               ha='center')"
   ]
  },
  {
   "cell_type": "code",
   "execution_count": 71,
   "metadata": {},
   "outputs": [
    {
     "data": {
      "image/png": "[encoded data removed]",
      "text/plain": [
       "<Figure size 1584x864 with 1 Axes>"
      ]
     },
     "metadata": {},
     "output_type": "display_data"
    }
   ],
   "source": [
    "plot_relative_distribution(df=beer_compare,feature='review_overall',hue='text_review_score')"
   ]
  },
  {
   "cell_type": "markdown",
   "metadata": {},
   "source": [
    "` As we can see overall review column mostly similar to text review column so positive review indicates high overall score where negative review showing low score and neutral show either positive or negative so here we can conclude both overall review and text based review are quiet similar reviews`"
   ]
  },
  {
   "cell_type": "code",
   "execution_count": null,
   "metadata": {},
   "outputs": [],
   "source": []
  }
 ],
 "metadata": {
  "kernelspec": {
   "display_name": "nlp_course",
   "language": "python",
   "name": "nlp_course"
  },
  "language_info": {
   "codemirror_mode": {
    "name": "ipython",
    "version": 3
   },
   "file_extension": ".py",
   "mimetype": "text/x-python",
   "name": "python",
   "nbconvert_exporter": "python",
   "pygments_lexer": "ipython3",
   "version": "3.7.3"
  }
 },
 "nbformat": 4,
 "nbformat_minor": 4
}
